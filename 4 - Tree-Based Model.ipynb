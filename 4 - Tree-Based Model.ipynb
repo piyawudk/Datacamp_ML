{
 "cells": [
  {
   "cell_type": "markdown",
   "metadata": {},
   "source": [
    "### **Road To ML: Course 4 - Machine Learning with Tree-Based Models in Python**"
   ]
  },
  {
   "cell_type": "markdown",
   "metadata": {},
   "source": [
    "#### **Chap 1: Classification and Regression Trees (CART)**"
   ]
  },
  {
   "cell_type": "markdown",
   "metadata": {},
   "source": [
    "##### **CART**\n",
    "**Advantages**\n",
    "- Learn sequence of if-else quesitions about individual features to infer labels\n",
    "- Easy to understand, use and interpret\n",
    "- Flexibility: Can capture non-linear relationships between features and labels\n",
    "- Don't require scaling i.e. Standardization and Normalization\n",
    "\n",
    "**Limitations**\n",
    "- Classification: Can only produce orthogonal decision boundaries\n",
    "- Sensitive to small variations in the training set\n",
    "- High variance: unconstrained CARTs may overfit the training set"
   ]
  },
  {
   "cell_type": "markdown",
   "metadata": {},
   "source": [
    "Example:\\\n",
    "![title](https://i.ibb.co/WkSB752/tree.png)"
   ]
  },
  {
   "cell_type": "markdown",
   "metadata": {},
   "source": [
    "##### **Decision Boundary/Regions: Linear Model vs CART**\n",
    "Notice: Decision tree divide features space into rectangular regions\\\n",
    "![title](https://i.ibb.co/jD2pXwd/cartt.png)"
   ]
  },
  {
   "cell_type": "code",
   "execution_count": 5,
   "metadata": {},
   "outputs": [],
   "source": [
    "# Import necessary module\n",
    "from sklearn.tree import DecisionTreeClassifier\n",
    "from sklearn.tree import DecisionTreeRegressor\n",
    "from sklearn.model_selection import train_test_split\n",
    "from sklearn.metrics import accuracy_score\n",
    "import pandas as pd\n",
    "import numpy as np"
   ]
  },
  {
   "cell_type": "code",
   "execution_count": 2,
   "metadata": {},
   "outputs": [],
   "source": [
    "# exercise"
   ]
  },
  {
   "cell_type": "code",
   "execution_count": 3,
   "metadata": {},
   "outputs": [
    {
     "name": "stdout",
     "output_type": "stream",
     "text": [
      "Score: 0.8859649122807017\n",
      "[1 0 0 1 0]\n"
     ]
    }
   ],
   "source": [
    "df = pd.read_csv(\"datasets/breast_cancer.csv\",header=0)\n",
    "df['diagnosis'] = df['diagnosis'].replace(['B','M'],[0,1])\n",
    "X = df[['radius_mean','concave points_mean']]\n",
    "y = df['diagnosis']\n",
    "X_train, X_test, y_train, y_test = train_test_split(X, y, test_size = 0.2, random_state=1)\n",
    "\n",
    "# Instantiate a DecisionTreeClassifier 'dt' with a maximum depth of 6\n",
    "dt = DecisionTreeClassifier(max_depth=6, random_state=1)\n",
    "\n",
    "# Fit dt to the training set\n",
    "dt.fit(X_train, y_train)\n",
    "\n",
    "# Predict test set labels\n",
    "y_pred = dt.predict(X_test)\n",
    "print('Score:',accuracy_score(y_test, y_pred))\n",
    "print(y_pred[0:5])"
   ]
  },
  {
   "cell_type": "markdown",
   "metadata": {},
   "source": [
    "###### Helper funciton for next exercise"
   ]
  },
  {
   "cell_type": "code",
   "execution_count": 4,
   "metadata": {},
   "outputs": [],
   "source": [
    "from mlxtend.plotting import plot_decision_regions\n",
    "import matplotlib.pyplot as plt\n",
    "\n",
    "def plot_labeled_decision_regions(X,y, models):\n",
    "    '''Function producing a scatter plot of the instances contained \n",
    "    in the 2D dataset (X,y) along with the decision \n",
    "    regions of two trained classification models contained in the\n",
    "    list 'models'.\n",
    "    \n",
    "    Parameters\n",
    "    ----------\n",
    "    X: pandas DataFrame corresponding to two numerical features \n",
    "    y: pandas Series corresponding the class labels\n",
    "    models: list containing two trained classifiers \n",
    "    \n",
    "    '''\n",
    "    if len(models) != 2:\n",
    "        raise Exception('''Models should be a list containing only two trained classifiers.''')\n",
    "    if not isinstance(X, pd.DataFrame):\n",
    "        raise Exception('''X has to be a pandas DataFrame with two numerical features.''')\n",
    "    if not isinstance(y, pd.Series):\n",
    "        raise Exception('''y has to be a pandas Series corresponding to the labels.''')\n",
    "    fig, ax = plt.subplots(1, 2, figsize=(10.0, 5), sharey=True)\n",
    "    for i, model in enumerate(models):\n",
    "        plot_decision_regions(X.values, y.values, model, legend= 2, ax = ax[i])\n",
    "        ax[i].set_title(model.__class__.__name__)\n",
    "        ax[i].set_xlabel(X.columns[0])\n",
    "        if i == 0:\n",
    "            ax[i].set_ylabel(X.columns[1])\n",
    "            ax[i].set_ylim(X.values[:,1].min(), X.values[:,1].max())\n",
    "            ax[i].set_xlim(X.values[:,0].min(), X.values[:,0].max())\n",
    "    plt.tight_layout()\n",
    "    plt.ylim((0, 0.2))"
   ]
  },
  {
   "cell_type": "code",
   "execution_count": 5,
   "metadata": {},
   "outputs": [
    {
     "name": "stderr",
     "output_type": "stream",
     "text": [
      "C:\\Users\\JIBJIB\\AppData\\Local\\Programs\\Python\\Python39\\lib\\site-packages\\sklearn\\base.py:445: UserWarning: X does not have valid feature names, but LogisticRegression was fitted with feature names\n",
      "  warnings.warn(\n",
      "C:\\Users\\JIBJIB\\AppData\\Local\\Programs\\Python\\Python39\\lib\\site-packages\\sklearn\\base.py:445: UserWarning: X does not have valid feature names, but DecisionTreeClassifier was fitted with feature names\n",
      "  warnings.warn(\n"
     ]
    },
    {
     "data": {
      "image/png": "[encoded data removed]",
      "text/plain": [
       "<Figure size 720x360 with 2 Axes>"
      ]
     },
     "metadata": {
      "needs_background": "light"
     },
     "output_type": "display_data"
    }
   ],
   "source": [
    "# Plotting Logistic Regression vs Decision tree\n",
    "\n",
    "# Import LogisticRegression from sklearn.linear_model\n",
    "from sklearn.linear_model import  LogisticRegression\n",
    "\n",
    "# Instatiate logreg\n",
    "logreg = LogisticRegression(random_state=1)\n",
    "\n",
    "# Fit logreg to the training set\n",
    "logreg.fit(X_train, y_train)\n",
    "\n",
    "# Define a list called clfs containing the two classifiers logreg and dt\n",
    "clfs = [logreg, dt]\n",
    "\n",
    "# Review the decision regions of the two classifiers\n",
    "plot_labeled_decision_regions(X_test, y_test, clfs)"
   ]
  },
  {
   "cell_type": "markdown",
   "metadata": {},
   "source": [
    "##### **How classification tree works**"
   ]
  },
  {
   "cell_type": "markdown",
   "metadata": {},
   "source": [
    "**Vocabs**\n",
    "- **Decision Tree**: data structure consisting of a hierachy of nodes.\n",
    "- **Node**: question or prediction.\n",
    "- **Root**: beginning node. no parents, only children nodes.\n",
    "- **Internal node**: node that has a parent, rising 2 children nodes.\n",
    "- **Leaf**: one parent node, no children nodes -> prediction\n",
    "\n",
    "*Tree learn to produce purest leafs*\\\n",
    "![title](https://i.ibb.co/SBpTd55/dictt.png)"
   ]
  },
  {
   "cell_type": "markdown",
   "metadata": {},
   "source": [
    "**Information Gain (IG)**\\\n",
    "![title](https://i.ibb.co/4W265yS/IG.png)\n",
    "$$ IG(\\underbrace{f}_{\\text{feature}}, \\underbrace{sp}_{\\text{split-point}} ) = I(\\text{parent}) - \\big( \\frac{N_{\\text{left}}}{N}I(\\text{left}) + \\frac{N_{\\text{right}}}{N}I(\\text{right})  \\big) $$\n",
    "\n",
    "Some criterion used to measure the node's impurity:\n",
    "- gini-index\n",
    "- entropy\n",
    "\n",
    "Classification-tree learning (unconstrained trees):\n",
    "- Nodes are grown recursively (based on the state of its predecessors)\n",
    "- At each node, split the data based on:\n",
    "    -   feature $(f)$ and split-point $(sp)$ to maximize $IG(node)$\n",
    "- If $IG(node) = 0(null)$, the node is declared as a leaf\n",
    "\n",
    "*p.s. for the constrained tree, if the maximum depth is given, all the nodes having a depth of that will be declared as a leaf even if it's not null*"
   ]
  },
  {
   "cell_type": "code",
   "execution_count": 6,
   "metadata": {},
   "outputs": [],
   "source": [
    "# exercise"
   ]
  },
  {
   "cell_type": "markdown",
   "metadata": {},
   "source": [
    "Which of the following does not follow the rules of unconstrained classification tree?\\\n",
    "A) The existence of a node depends on the state of its predecessors.\\\n",
    "B) The impurity of a node can be determined using different criteria such as entropy and the gini-index.\\\n",
    "C) When the information gain resulting from splitting a node is null, the node is declared as a leaf.\\\n",
    "D) When an internal node is split, the split is performed in such a way so that information gain is minimized.\n",
    "\n",
    "<b>*Answer: D*</b> (splitting an internal node always involves maximizing information gain)"
   ]
  },
  {
   "cell_type": "code",
   "execution_count": 7,
   "metadata": {},
   "outputs": [
    {
     "name": "stdout",
     "output_type": "stream",
     "text": [
      "Accuracy achieved by using entropy:  0.9473684210526315\n",
      "Accuracy achieved by using the gini index:  0.9473684210526315\n"
     ]
    }
   ],
   "source": [
    "# Comparing between the criterion (Gini vs Entropy)\n",
    "df = pd.read_csv(\"datasets/breast_cancer.csv\",header=0)\n",
    "df['diagnosis'] = df['diagnosis'].replace(['B','M'],[0,1])\n",
    "y = df['diagnosis'].values\n",
    "X = df.drop(['diagnosis','id','Unnamed: 32'], axis=1)\n",
    "\n",
    "X_train, X_test, y_train, y_test = train_test_split(X, y, test_size=0.2, random_state=1)\n",
    "\n",
    "\n",
    "dt_entropy = DecisionTreeClassifier(criterion='entropy', max_depth=8, random_state=1)\n",
    "dt_gini = DecisionTreeClassifier(criterion='gini', max_depth=8, random_state=1)\n",
    "\n",
    "dt_entropy.fit(X_train, y_train)\n",
    "dt_gini.fit(X_train, y_train)\n",
    "\n",
    "y_pred_entropy = dt_entropy.predict(X_test)\n",
    "y_pred_gini = dt_gini.predict(X_test)\n",
    "\n",
    "accuracy_entropy = accuracy_score(y_test, y_pred_entropy)\n",
    "accuracy_gini = accuracy_score(y_test, y_pred_gini)\n",
    "\n",
    "print('Accuracy achieved by using entropy: ', accuracy_entropy)\n",
    "print('Accuracy achieved by using the gini index: ', accuracy_gini)\n",
    "\n",
    "# Most of the time, the gini index and entropy lead to the same results.\n",
    "# The gini index is slightly faster to compute and is the default criterion -\n",
    "# used in the DecisionTreeClassifier model of scikit-learn."
   ]
  },
  {
   "cell_type": "markdown",
   "metadata": {},
   "source": [
    "##### **Decision-tree for regression**"
   ]
  },
  {
   "cell_type": "markdown",
   "metadata": {},
   "source": [
    "- Information Criterion for Regression Tree\n",
    "$$ I(\\text{node}) = \\underbrace{\\text{MSE}(\\text{node})}_{\\text{mean-squared-error}} = \\dfrac{1}{N_{\\text{node}}} \\sum_{i \\in \\text{node}} \\big(y^{(i)} - \\hat{y}_{\\text{node}}  \\big)^2 $$\n",
    "$$ \\underbrace{\\hat{y}_{\\text{node}}}_{\\text{mean-target-value}} = \\dfrac{1}{N_{\\text{node}}} \\sum_{i \\in \\text{node}}y^{(i)}$$\n",
    "- Prediction\n",
    "$$ \\hat{y}_{\\text{pred}}(\\text{leaf}) = \\dfrac{1}{N_{\\text{leaf}}} \\sum_{i \\in \\text{leaf}} y^{(i)}$$"
   ]
  },
  {
   "cell_type": "markdown",
   "metadata": {},
   "source": [
    "##### Linear Regression vs Decision Tree\n",
    "![title](https://i.ibb.co/Fn3LGbB/versus.png)"
   ]
  },
  {
   "cell_type": "code",
   "execution_count": 8,
   "metadata": {},
   "outputs": [],
   "source": [
    "# exercise"
   ]
  },
  {
   "cell_type": "code",
   "execution_count": 9,
   "metadata": {},
   "outputs": [
    {
     "data": {
      "text/plain": [
       "DecisionTreeRegressor(max_depth=8, min_samples_leaf=0.13, random_state=3)"
      ]
     },
     "execution_count": 9,
     "metadata": {},
     "output_type": "execute_result"
    }
   ],
   "source": [
    "# Training regression tree\n",
    "df = pd.read_csv(\"datasets/auto-mpg.csv\",header=0)\n",
    "col_names = {1 : 'USA', 2:'Europe', 3: 'Asia'}\n",
    "df['origin'] = df['origin'].replace(col_names)\n",
    "df = pd.get_dummies(df, columns =['origin'])\n",
    "\n",
    "df.replace('?', np.nan, inplace=True)\n",
    "df.drop(['car name',\"cylinders\"],axis=1,inplace=True)\n",
    "df.dropna(inplace=True)\n",
    "df['horsepower']= df['horsepower'].astype('float64')\n",
    "\n",
    "y = df['mpg']\n",
    "X = df.drop('mpg',axis=1)\n",
    "\n",
    "X_train, X_test, y_train, y_test = train_test_split(X, y, test_size = 0.2, random_state=3)\n",
    "\n",
    "dt = DecisionTreeRegressor(max_depth=8,min_samples_leaf=0.13,random_state=3)\n",
    "X_train\n",
    "dt.fit(X_train,y_train)\n"
   ]
  },
  {
   "cell_type": "code",
   "execution_count": 10,
   "metadata": {},
   "outputs": [
    {
     "name": "stdout",
     "output_type": "stream",
     "text": [
      "Test set RMSE of dt: 3.28\n"
     ]
    }
   ],
   "source": [
    "# Evaluate the regression tree\n",
    "'''The RMSE of a model measures, on average, how much the model's predictions\n",
    "differ from the actual labels. The RMSE of a model can be obtained by computing\n",
    "the square root of the model's Mean Squared Error (MSE).'''\n",
    "\n",
    "# Import mean_squared_error from sklearn.metrics as MSE\n",
    "from sklearn.metrics import mean_squared_error as MSE\n",
    "\n",
    "# Compute y_pred\n",
    "y_pred_dt = dt.predict(X_test)\n",
    "\n",
    "# Compute mse_dt\n",
    "mse_dt = MSE(y_test, y_pred_dt)\n",
    "\n",
    "# Compute rmse_dt\n",
    "rmse_dt = mse_dt**(1/2)\n",
    "\n",
    "# Print rmse_dt\n",
    "print(\"Test set RMSE of dt: {:.2f}\".format(rmse_dt))"
   ]
  },
  {
   "cell_type": "code",
   "execution_count": 11,
   "metadata": {},
   "outputs": [
    {
     "name": "stdout",
     "output_type": "stream",
     "text": [
      "Linear Regression test set RMSE: 3.58\n",
      "Regression Tree test set RMSE: 3.28\n"
     ]
    }
   ],
   "source": [
    "# Linear regression vs regression tree\n",
    "from sklearn.linear_model import LinearRegression\n",
    "lr = LinearRegression()\n",
    "lr.fit(X_train,y_train)\n",
    "\n",
    "# Compute y_pred\n",
    "y_pred_lr = lr.predict(X_test)\n",
    "\n",
    "# Compute mse_lr\n",
    "mse_lr = MSE(y_test, y_pred_lr)\n",
    "\n",
    "# Compute rmse_lr\n",
    "rmse_lr = mse_lr**(1/2)\n",
    "\n",
    "# Print rmse_lr\n",
    "print('Linear Regression test set RMSE: {:.2f}'.format(rmse_lr))\n",
    "\n",
    "# Print rmse_dt\n",
    "print('Regression Tree test set RMSE: {:.2f}'.format(rmse_dt))"
   ]
  },
  {
   "cell_type": "markdown",
   "metadata": {},
   "source": [
    "#### **Chap 2: The Bias-Variance Tradeoff**"
   ]
  },
  {
   "cell_type": "markdown",
   "metadata": {},
   "source": [
    "##### **Generalization Error**"
   ]
  },
  {
   "cell_type": "markdown",
   "metadata": {},
   "source": [
    "- Supervised learning: $y = f(x)$, $f$ is unknown\\\n",
    "![title](https://i.ibb.co/znDP0NT/graph-f.png)"
   ]
  },
  {
   "cell_type": "markdown",
   "metadata": {},
   "source": [
    "**Goals:**\n",
    "- To find $\\hat{f}$ (model) that best approximates $f$ ($\\hat{f} \\approx f$)\n",
    "    - where $\\hat{f}$ is Logistic Regression, Decision Tree, Neural Network, etc..\n",
    "- Discard noise as much as possible\n",
    "- **End Goals:** $\\hat{f}$ achieve low predictive error (high accuracy) on unseen datasets\n",
    "\n",
    "**Difficulties when approximating $f$:**\n",
    "- Overfitting: where the model fits the training set noise\\\n",
    "![title](https://i.ibb.co/ry02sc2/overrr.png)\n",
    "\n",
    "- Underfitting: where the model is not flexible enough to approximate $f$\\\n",
    "![title](https://i.ibb.co/myDCsBr/underr.png)\\\n",
    "*Training set error $\\approx$ testing set error, but the errors are still high*"
   ]
  },
  {
   "cell_type": "markdown",
   "metadata": {},
   "source": [
    "**Generalization error of $\\hat{f}$:**\n",
    "- Does $\\hat{f}$ perform well on unseen data?\n",
    "- $\\hat{f} = bias^2 + variance + irreducible\\ error$\n",
    "\n",
    "**Bias:**\n",
    "- error term that tells you how much $\\hat{f}$ and $f$ are different ($\\hat{f}\\neq f$)\n",
    "- High bias model -> underfitting\\\n",
    "![title](https://i.ibb.co/WpDWPpk/biasd.png)\\\n",
    "*bias model (black line)*\n",
    "\n",
    "**Variance:**\n",
    "- how much $\\hat{f}$ is inconsistent over diffrent training data sets\n",
    "- High variance model -> overfitting\\\n",
    "![title](https://i.ibb.co/L6hyx7P/varrr.png)\\\n",
    "*variance model (black line)*"
   ]
  },
  {
   "cell_type": "markdown",
   "metadata": {},
   "source": [
    "**Model complexity**\n",
    "- sets the flexibility of $\\hat{f}$\n",
    "- i.e. increase max tree depth, minimum samples per leaf\n",
    "\n",
    "**Bias-variance tradeoff:**\n",
    "- we need to find the model complexity that achieves the lowest generalization error\n",
    "![title](https://i.ibb.co/NZVWvy0/eoiccc.png)"
   ]
  },
  {
   "cell_type": "markdown",
   "metadata": {},
   "source": [
    "![title](https://i.ibb.co/WcCwydb/yes.png)\\\n",
    "*center = true function $f$*"
   ]
  },
  {
   "cell_type": "code",
   "execution_count": 12,
   "metadata": {},
   "outputs": [],
   "source": [
    "# exercise 1"
   ]
  },
  {
   "cell_type": "markdown",
   "metadata": {},
   "source": [
    "Which of the following correctly describes the relationship between $\\hat{f}$'s complexity and $\\hat{f}$'s bias and variance terms?\\\n",
    "A) As the complexity of $\\hat{f}$ decreases, the bias term decreases while the variance term increases.\\\n",
    "B) As the complexity of $\\hat{f}$ decreases, both the bias and the variance terms increase.\\\n",
    "C) As the complexity of $\\hat{f}$ increases, the bias term increases while the variance term decreases.\\\n",
    "D) As the complexity of $\\hat{f}$ increases, the bias term decreases while the variance term increases.\n",
    "\n",
    "<b>*Answer: D*</b>"
   ]
  },
  {
   "cell_type": "code",
   "execution_count": 13,
   "metadata": {},
   "outputs": [],
   "source": [
    "# exercise 2"
   ]
  },
  {
   "cell_type": "markdown",
   "metadata": {},
   "source": [
    "Which of the following statements is true?\\\n",
    "![title](https://assets.datacamp.com/production/repositories/1796/datasets/f905399bc06da86c2a3af27b20717de5a777e6e1/diagnose-problems.jpg)\n",
    "\n",
    "A) $A$ suffers from high bias and overfits the training set.\\\n",
    "B) $A$ suffers from high variance and underfits the training set.\\\n",
    "C) $B$ suffers from high bias and underfits the training set.\\\n",
    "D) $B$ suffers from high variance and underfits the training set.\n",
    "\n",
    "<b>*Answer: C*</b>"
   ]
  },
  {
   "cell_type": "markdown",
   "metadata": {},
   "source": [
    "##### **Diagnose bias and variance problems**"
   ]
  },
  {
   "cell_type": "markdown",
   "metadata": {},
   "source": [
    "**Estimating Generalization Error**\n",
    "- cannot be done directly since:\n",
    "    - $f$ is unknown\n",
    "    - we usually have 1 dataset\n",
    "    - noise is unpredictable\n",
    "\n",
    "Solution: Split data into training set and test set\n",
    "\n",
    "**Better model evaluation with Cross-Validation**:\n",
    "- test set should not be touched until we are confident with the $\\hat{f}$'s performance\n",
    "- evaluating $\\hat{f}$ on training set gives biased estimate\n",
    "\n",
    "Solution: Cross-validation (K-Fold CV, Hold-Out CV)"
   ]
  },
  {
   "cell_type": "markdown",
   "metadata": {},
   "source": [
    "**K-Fold CV**:\n",
    "- the training set is split randomly (*k*) partitions/folds\n",
    "- each time, one fold is picked for evaluation after training $\\hat{f}$ on the other 9 folds\n",
    "- at the end, we will obtain a list of *k* errors\n",
    "    - CV error is computed as the mean of that list\n",
    "\n",
    "**Diagnose Variance Problems**:\n",
    "- $\\hat{f}$ suffer from **high variance** when: CV error > training set error\n",
    "- it **overfit** the training set\n",
    "    - solution: decrease model complecity\n",
    "        - i.e. decrease max depth, increase min samples per leaf, gather more data\n",
    "\n",
    "**Diagnose Bias Problems**:\n",
    "- $\\hat{f}$ suffer from **high bias** when: CV error $\\approx$ training set error $>>$ desired error\n",
    "- it **underfit** the training set\n",
    "    - solution: increase model complecity\n",
    "        - i.e. increase max depth, decrease min samples per leaf, gather more relavent features"
   ]
  },
  {
   "cell_type": "code",
   "execution_count": 14,
   "metadata": {},
   "outputs": [],
   "source": [
    "# exercise 1: Instantiate the model"
   ]
  },
  {
   "cell_type": "code",
   "execution_count": 15,
   "metadata": {},
   "outputs": [],
   "source": [
    "X_train, X_test, y_train, y_test = train_test_split(X, y, test_size=0.3, random_state=1)\n",
    "dt = DecisionTreeRegressor(max_depth=4, min_samples_leaf=0.26, random_state=1)"
   ]
  },
  {
   "cell_type": "code",
   "execution_count": 16,
   "metadata": {},
   "outputs": [],
   "source": [
    "# exercise 2: Evaluate the 10-fold CV error"
   ]
  },
  {
   "cell_type": "code",
   "execution_count": 17,
   "metadata": {},
   "outputs": [
    {
     "name": "stdout",
     "output_type": "stream",
     "text": [
      "CV RMSE: 4.26\n"
     ]
    }
   ],
   "source": [
    "from sklearn.model_selection import cross_val_score\n",
    "\n",
    "# Compute the array containing the 10-folds CV MSEs\n",
    "MSE_CV_scores = - cross_val_score(dt, X_train, y_train, cv=10, \n",
    "                       scoring='neg_mean_squared_error',\n",
    "                       n_jobs=-1)\n",
    "\n",
    "# Compute the 10-folds CV RMSE\n",
    "RMSE_CV = (MSE_CV_scores.mean())**(1/2)\n",
    "\n",
    "# Print RMSE_CV\n",
    "print('CV RMSE: {:.2f}'.format(RMSE_CV))"
   ]
  },
  {
   "cell_type": "code",
   "execution_count": 18,
   "metadata": {},
   "outputs": [],
   "source": [
    "# exercise 3: Evaluate the training error"
   ]
  },
  {
   "cell_type": "code",
   "execution_count": 19,
   "metadata": {},
   "outputs": [
    {
     "name": "stdout",
     "output_type": "stream",
     "text": [
      "Train RMSE: 4.09\n"
     ]
    }
   ],
   "source": [
    "# Import mean_squared_error from sklearn.metrics as MSE\n",
    "from sklearn.metrics import mean_squared_error as MSE\n",
    "\n",
    "# Fit dt to the training set\n",
    "dt.fit(X_train, y_train)\n",
    "\n",
    "# Predict the labels of the training set\n",
    "y_pred_train = dt.predict(X_train)\n",
    "\n",
    "# Evaluate the training set RMSE of dt\n",
    "RMSE_train = (MSE(y_train, y_pred_train))**(1/2)\n",
    "\n",
    "# Print RMSE_train\n",
    "print('Train RMSE: {:.2f}'.format(RMSE_train))"
   ]
  },
  {
   "cell_type": "code",
   "execution_count": 20,
   "metadata": {},
   "outputs": [],
   "source": [
    "# exercise 4: High bias or high variance?"
   ]
  },
  {
   "cell_type": "markdown",
   "metadata": {},
   "source": [
    "From Chapter 1 Lesson 3 (Evaluate the regression tree), we got a $baseline RMSE$ of 3.28 which is considered to be 'good enough'.\n",
    "In the earlier exercise we test it again using $CV$ and $RMSE$ and got a result of 4.26 and 4.09 respectively.\n",
    "\n",
    "it is $CV\\approx RMSE >> baseline RMSE$\\\n",
    "Therefore, our **dt** suffers from high bias and is underfitting the training set"
   ]
  },
  {
   "cell_type": "markdown",
   "metadata": {},
   "source": [
    "##### **Ensemble Learning**"
   ]
  },
  {
   "cell_type": "markdown",
   "metadata": {},
   "source": [
    "Recall the limitations of CARTs:\n",
    "- Classification: Can only produce orthogonal decision boundaries\n",
    "- Sensitive to small variations in the training set\n",
    "- High variance: unconstrained CARTs may overfit the training set\n",
    "\n",
    "Ensemble Learning takes the advantage of the flexibility CARTs while reducing their tendency to memorize noise\n",
    "![title](https://i.ibb.co/sj9MT9m/ensemm.png)"
   ]
  },
  {
   "cell_type": "markdown",
   "metadata": {},
   "source": [
    "**Voting Classifier**\n",
    "- binary classification task\n",
    "- $N$ classifier making prediction: $P_1, P_2, P_N$ with the output of either 0 or 1\n",
    "- meta model output the final prediction by hard voting. which number has the most amount of vote win!\n",
    "![title](https://i.ibb.co/hBBysJ4/voteme.png)"
   ]
  },
  {
   "cell_type": "code",
   "execution_count": 21,
   "metadata": {},
   "outputs": [],
   "source": [
    "# exercise 1: Define the ensemble"
   ]
  },
  {
   "cell_type": "code",
   "execution_count": 22,
   "metadata": {},
   "outputs": [],
   "source": [
    "from sklearn.linear_model import LogisticRegression\n",
    "from sklearn.neighbors import KNeighborsClassifier as KNN\n",
    "\n",
    "# Instantiate lr\n",
    "lr = LogisticRegression(random_state=1, max_iter=100, n_jobs=1)\n",
    "\n",
    "# Instantiate knn\n",
    "knn = KNN(n_neighbors=27)\n",
    "\n",
    "# Instantiate dt\n",
    "dt = DecisionTreeClassifier(min_samples_leaf=0.13, random_state=1)\n",
    "\n",
    "# Define the list classifiers\n",
    "classifiers = [('Logistic Regression', lr), ('K Nearest Neighbours', knn), ('Classification Tree', dt)]"
   ]
  },
  {
   "cell_type": "code",
   "execution_count": 23,
   "metadata": {},
   "outputs": [],
   "source": [
    "# exercise 2: Evaluate individual classifiers"
   ]
  },
  {
   "cell_type": "code",
   "execution_count": 24,
   "metadata": {},
   "outputs": [
    {
     "name": "stdout",
     "output_type": "stream",
     "text": [
      "Logistic Regression : 0.764\n",
      "K Nearest Neighbours : 0.724\n",
      "Classification Tree : 0.730\n"
     ]
    },
    {
     "name": "stderr",
     "output_type": "stream",
     "text": [
      "C:\\Users\\JIBJIB\\AppData\\Local\\Programs\\Python\\Python39\\lib\\site-packages\\sklearn\\linear_model\\_logistic.py:814: ConvergenceWarning: lbfgs failed to converge (status=1):\n",
      "STOP: TOTAL NO. of ITERATIONS REACHED LIMIT.\n",
      "\n",
      "Increase the number of iterations (max_iter) or scale the data as shown in:\n",
      "    https://scikit-learn.org/stable/modules/preprocessing.html\n",
      "Please also refer to the documentation for alternative solver options:\n",
      "    https://scikit-learn.org/stable/modules/linear_model.html#logistic-regression\n",
      "  n_iter_i = _check_optimize_result(\n"
     ]
    }
   ],
   "source": [
    "df = pd.read_csv('datasets/indian_liver_patient_preprocessed.csv', header=0)\n",
    "y = df['Liver_disease']\n",
    "X = df.drop('Liver_disease', axis=1)\n",
    "\n",
    "X_train, X_test, y_train, y_test = train_test_split(X,y,test_size = 0.3, random_state=1)\n",
    "\n",
    "# Iterate over the pre-defined list of classifiers\n",
    "for clf_name, clf in classifiers:    \n",
    " \n",
    "    # Fit clf to the training set\n",
    "    clf.fit(X_train, y_train)    \n",
    "   \n",
    "    # Predict y_pred\n",
    "    y_pred = clf.predict(X_test)\n",
    "    \n",
    "    # Calculate accuracy\n",
    "    accuracy = accuracy_score(y_test, y_pred) \n",
    "   \n",
    "    # Evaluate clf's accuracy on the test set\n",
    "    print('{:s} : {:.3f}'.format(clf_name, accuracy))"
   ]
  },
  {
   "cell_type": "code",
   "execution_count": 25,
   "metadata": {},
   "outputs": [],
   "source": [
    "# exercise 3: Better performance with a Voting Classifier"
   ]
  },
  {
   "cell_type": "code",
   "execution_count": 26,
   "metadata": {},
   "outputs": [
    {
     "name": "stdout",
     "output_type": "stream",
     "text": [
      "Voting Classifier: 0.764\n"
     ]
    },
    {
     "name": "stderr",
     "output_type": "stream",
     "text": [
      "C:\\Users\\JIBJIB\\AppData\\Local\\Programs\\Python\\Python39\\lib\\site-packages\\sklearn\\linear_model\\_logistic.py:814: ConvergenceWarning: lbfgs failed to converge (status=1):\n",
      "STOP: TOTAL NO. of ITERATIONS REACHED LIMIT.\n",
      "\n",
      "Increase the number of iterations (max_iter) or scale the data as shown in:\n",
      "    https://scikit-learn.org/stable/modules/preprocessing.html\n",
      "Please also refer to the documentation for alternative solver options:\n",
      "    https://scikit-learn.org/stable/modules/linear_model.html#logistic-regression\n",
      "  n_iter_i = _check_optimize_result(\n"
     ]
    }
   ],
   "source": [
    "from sklearn.ensemble import VotingClassifier\n",
    "\n",
    "# Instantiate a VotingClassifier vc\n",
    "vc = VotingClassifier(estimators=classifiers)     \n",
    "\n",
    "# Fit vc to the training set\n",
    "vc.fit(X_train, y_train)   \n",
    "\n",
    "# Evaluate the test set predictions\n",
    "y_pred = vc.predict(X_test)\n",
    "\n",
    "# Calculate accuracy score\n",
    "accuracy = accuracy_score(y_test, y_pred)\n",
    "print('Voting Classifier: {:.3f}'.format(accuracy))"
   ]
  },
  {
   "cell_type": "markdown",
   "metadata": {},
   "source": [
    "#### **Chap 3: Bagging and Random Forests**"
   ]
  },
  {
   "cell_type": "markdown",
   "metadata": {},
   "source": [
    "##### **Boostrap aggregation (Bagging)**"
   ]
  },
  {
   "cell_type": "markdown",
   "metadata": {},
   "source": [
    "- In bagging, the ensemble is formed by models that use the same training algorithm.\n",
    "    - Theses models are not trained on the entire training set. It is trained on a different subset of the data.\n",
    "- can reduce the variance of individual models in the ensemble.\n",
    "- improve the stability and accuracy of machine learning algorithms\n",
    "- helps to avoid overfitting"
   ]
  },
  {
   "cell_type": "markdown",
   "metadata": {},
   "source": [
    "**Boostrapping**\n",
    "- will drawn samples with replacement (any samples can be drawn many times)\n",
    "\n",
    "**Aggregating**\n",
    "- consists of drawing N different boostrap samples from training set\n",
    "- each of the boostrap samples are used to train N models that use the same algorithm\n",
    "![title](https://media.geeksforgeeks.org/wp-content/uploads/20210707140912/Bagging.png)"
   ]
  },
  {
   "cell_type": "markdown",
   "metadata": {},
   "source": [
    "**Bagging**\\\n",
    "Classification:\n",
    "- aggregates predictions by majority voting\n",
    "- Classifier: BaggingClassifier\n",
    "\n",
    "Regression:\n",
    "- aggregates predictions by averaging\n",
    "-  Regressor: BaggingRegressor\n"
   ]
  },
  {
   "cell_type": "code",
   "execution_count": 27,
   "metadata": {},
   "outputs": [],
   "source": [
    "# exercise 1: Define the bagging classifier"
   ]
  },
  {
   "cell_type": "code",
   "execution_count": 28,
   "metadata": {},
   "outputs": [],
   "source": [
    "from sklearn.ensemble import BaggingClassifier\n",
    "\n",
    "# Instantiate dt\n",
    "dt = DecisionTreeClassifier(random_state=1)\n",
    "\n",
    "# Instantiate bc\n",
    "bc = BaggingClassifier(base_estimator=dt, n_estimators=50, random_state=1)"
   ]
  },
  {
   "cell_type": "code",
   "execution_count": 29,
   "metadata": {},
   "outputs": [],
   "source": [
    "# exercise 2: Evaluate Bagging performance"
   ]
  },
  {
   "cell_type": "code",
   "execution_count": 30,
   "metadata": {},
   "outputs": [
    {
     "name": "stdout",
     "output_type": "stream",
     "text": [
      "Test set accuracy of bc: 0.66\n",
      "Test set accuracy of dt: 0.63\n"
     ]
    }
   ],
   "source": [
    "df = pd.read_csv('datasets/indian_liver_patient_preprocessed.csv', header=0, index_col=0)\n",
    "df.head()\n",
    "y = df['Liver_disease']\n",
    "X = df.drop('Liver_disease', axis=1)\n",
    "\n",
    "X_train, X_test, y_train, y_test = train_test_split(X,y,test_size=0.2,random_state=1,stratify=y)\n",
    "\n",
    "# Fit bc to the training set\n",
    "bc.fit(X_train,y_train)\n",
    "dt.fit(X_train, y_train)\n",
    "\n",
    "# Predict test set labels\n",
    "y_pred = bc.predict(X_test)\n",
    "y_pred_dt = dt.predict(X_test)\n",
    "\n",
    "# Evaluate acc_test\n",
    "acc_test = accuracy_score(y_test,y_pred)\n",
    "print('Test set accuracy of bc: {:.2f}'.format(acc_test)) \n",
    "\n",
    "acc_test_dt = accuracy_score(y_test, y_pred_dt)\n",
    "print('Test set accuracy of dt: {:.2f}'.format(acc_test_dt))"
   ]
  },
  {
   "cell_type": "markdown",
   "metadata": {},
   "source": [
    "##### **Out of Bag Evaluation**"
   ]
  },
  {
   "cell_type": "markdown",
   "metadata": {},
   "source": [
    "In bagging:\n",
    "- some instances may be sampled several times for one model\n",
    "- other instances may not be sampled at all\n",
    "\n",
    "\n",
    "OOB is use to measure the accuracy of classifiers.\n",
    "- For each model, 63% of the training instances are sampled\n",
    "- The remaining 37% constitute OOB instances.\\\n",
    "![title](https://i.ibb.co/vzF8wp4/nuun.png)"
   ]
  },
  {
   "cell_type": "code",
   "execution_count": 31,
   "metadata": {},
   "outputs": [],
   "source": [
    "# exercise 1: Prepare the ground (OOB)"
   ]
  },
  {
   "cell_type": "code",
   "execution_count": 32,
   "metadata": {},
   "outputs": [],
   "source": [
    "# Instantiate dt\n",
    "dt = DecisionTreeClassifier(min_samples_leaf=8, random_state=1)\n",
    "\n",
    "# Instantiate bc\n",
    "bc = BaggingClassifier(base_estimator=dt, \n",
    "            n_estimators=50,\n",
    "            oob_score=True,\n",
    "            random_state=1)"
   ]
  },
  {
   "cell_type": "code",
   "execution_count": 33,
   "metadata": {},
   "outputs": [],
   "source": [
    "# exercise 2: OOB Score vs Test Set Score"
   ]
  },
  {
   "cell_type": "code",
   "execution_count": 34,
   "metadata": {},
   "outputs": [
    {
     "name": "stdout",
     "output_type": "stream",
     "text": [
      "Test set accuracy: 0.698, OOB accuracy: 0.702\n"
     ]
    }
   ],
   "source": [
    "# Fit bc to the training set \n",
    "bc.fit(X_train, y_train)\n",
    "\n",
    "# Predict test set labels\n",
    "y_pred = bc.predict(X_test)\n",
    "\n",
    "# Evaluate test set accuracy\n",
    "acc_test = accuracy_score(y_test, y_pred)\n",
    "\n",
    "# Evaluate OOB accuracy\n",
    "acc_oob = bc.oob_score_\n",
    "\n",
    "# Print acc_test and acc_oob\n",
    "print('Test set accuracy: {:.3f}, OOB accuracy: {:.3f}'.format(acc_test, acc_oob))"
   ]
  },
  {
   "cell_type": "markdown",
   "metadata": {},
   "source": [
    "##### **Random Forests (RF)**"
   ]
  },
  {
   "cell_type": "markdown",
   "metadata": {},
   "source": [
    "- Base estimator: Decision Tree\n",
    "- Each estimator is trained on a di(erent bootstrap sample having the same size as the training set\n",
    "- RF introduces further randomization in the training of individual trees\n",
    "- $d$ features are sampled at each node without replacement\\\n",
    "( $d$ < total number of features )\\\n",
    "![title](https://i.ibb.co/mJ1JR7c/traini.png)\n",
    "![title](https://i.ibb.co/Xb1TSBV/predd.png)"
   ]
  },
  {
   "cell_type": "markdown",
   "metadata": {},
   "source": [
    "**Random Forests: Classification & Regression**\\\n",
    "Classification:\n",
    "- aggregates predictions by majority voting\n",
    "- Classifier: RandomForestClassifier\n",
    "\n",
    "Regression:\n",
    "- aggregates predictions by averaging\n",
    "-  Regressor: RandomForestRegressor\n",
    "\n",
    "*in general, Random Forests achieves a lower variacne than individual trees*"
   ]
  },
  {
   "cell_type": "markdown",
   "metadata": {},
   "source": [
    "**Feature Importance**\n",
    "- Tree-based methods: enable measuring the importance of each feature in prediction\n",
    "- how much the tree nodes use a particular feature (weighted average) to reduce impurity\n",
    "- use: feature_importance_"
   ]
  },
  {
   "cell_type": "code",
   "execution_count": 35,
   "metadata": {},
   "outputs": [],
   "source": [
    "# example 1: Train an RF regressor"
   ]
  },
  {
   "cell_type": "code",
   "execution_count": 36,
   "metadata": {},
   "outputs": [
    {
     "data": {
      "text/plain": [
       "RandomForestRegressor(n_estimators=25, random_state=2)"
      ]
     },
     "execution_count": 36,
     "metadata": {},
     "output_type": "execute_result"
    }
   ],
   "source": [
    "from sklearn.ensemble import  RandomForestRegressor\n",
    "\n",
    "df = pd.read_csv('datasets/bike_sharing_demand.csv', header=0)\n",
    "y = df['cnt']\n",
    "X = df.drop('cnt',axis=1)\n",
    "\n",
    "X_train, X_test, y_train, y_test = train_test_split(X,y,test_size=0.2,random_state=1)\n",
    "\n",
    "# Instantiate rf\n",
    "rf = RandomForestRegressor(n_estimators=25,\n",
    "            random_state=2)\n",
    "            \n",
    "# Fit rf to the training set    \n",
    "rf.fit(X_train, y_train) "
   ]
  },
  {
   "cell_type": "code",
   "execution_count": 37,
   "metadata": {},
   "outputs": [],
   "source": [
    "# exercise 2: Evaluate the RF regressor"
   ]
  },
  {
   "cell_type": "code",
   "execution_count": 38,
   "metadata": {},
   "outputs": [
    {
     "name": "stdout",
     "output_type": "stream",
     "text": [
      "Test set RMSE of rf: 51.84\n"
     ]
    }
   ],
   "source": [
    "from sklearn.metrics import mean_squared_error as MSE\n",
    "\n",
    "# Predict the test set labels\n",
    "y_pred = rf.predict(X_test)\n",
    "\n",
    "# Evaluate the test set RMSE\n",
    "rmse_test = MSE(y_test,y_pred)**(1/2)\n",
    "\n",
    "# Print rmse_test\n",
    "print('Test set RMSE of rf: {:.2f}'.format(rmse_test))"
   ]
  },
  {
   "cell_type": "code",
   "execution_count": 39,
   "metadata": {},
   "outputs": [],
   "source": [
    "# exercise 3: Visualizing features importances"
   ]
  },
  {
   "cell_type": "code",
   "execution_count": 40,
   "metadata": {},
   "outputs": [
    {
     "data": {
      "image/png": "[encoded data removed]",
      "text/plain": [
       "<Figure size 432x288 with 1 Axes>"
      ]
     },
     "metadata": {
      "needs_background": "light"
     },
     "output_type": "display_data"
    }
   ],
   "source": [
    "import matplotlib.pyplot as plt\n",
    "\n",
    "# Create a pd.Series of features importances\n",
    "importances = pd.Series(data=rf.feature_importances_,\n",
    "                        index= X_train.columns)\n",
    "\n",
    "# Sort importances\n",
    "importances_sorted = importances.sort_values()\n",
    "\n",
    "# Draw a horizontal barplot of importances_sorted\n",
    "importances_sorted.plot(kind='barh', color='lightgreen')\n",
    "plt.title('Features Importances')\n",
    "plt.show()"
   ]
  },
  {
   "cell_type": "markdown",
   "metadata": {},
   "source": [
    "#### **Chap 4: Boosting**"
   ]
  },
  {
   "cell_type": "markdown",
   "metadata": {},
   "source": [
    "**Backgroud:**\n",
    "- Boosting: Ensemble method combining several weak learners to form a strong learner.\n",
    "- Weak learner do slightly a better job in random guessing\n",
    "    - i.e. Decision stump (CART with max depth of 1)\n",
    "- Boosting train an ensemble of predictors sequentially\n",
    "    - Each predictor tries to correct its predecessor.\n",
    "- Boosting method:\n",
    "    - AdaBoost (adaptive boosting)\n",
    "    - Gradient Boosting"
   ]
  },
  {
   "cell_type": "markdown",
   "metadata": {},
   "source": [
    "##### **AdaBoost**"
   ]
  },
  {
   "cell_type": "markdown",
   "metadata": {},
   "source": [
    "**Adaboost (Adaptive Boosting)**\n",
    "- Each predictor pays more attention to the instances that is wrongly predicted by its predecessor by constantly changing the weights of the training instances.\n",
    "- Each predictor assign the coefficient $\\alpha$ which depends on the predictor's training error.\n",
    "![title](https://i.ibb.co/d6dQ3Mc/adada.jpg)\n",
    "\n",
    "**Learning rate**\n",
    "- $0<\\eta<1$\n",
    "- use to shrink the coefficient $\\alpha$ of a trained predictor\n",
    "- small $\\eta$ should be compensate by a great number of estimators\\\n",
    "![title](https://i.ibb.co/zRK3jFG/leagnin.jpg)\n",
    "\n",
    "**Prediction**\n",
    "- Classification:\n",
    "    - weighted majority voting\n",
    "        - AdaBoostClassifier\n",
    "- Regression:\n",
    "    - weighted average\n",
    "        - AdaBoostRegressor\n"
   ]
  },
  {
   "cell_type": "code",
   "execution_count": 1,
   "metadata": {},
   "outputs": [],
   "source": [
    "# exercise 1: Define the AdaBoost classifier"
   ]
  },
  {
   "cell_type": "code",
   "execution_count": 6,
   "metadata": {},
   "outputs": [],
   "source": [
    "# Import DecisionTreeClassifier\n",
    "from sklearn.tree import DecisionTreeClassifier\n",
    "\n",
    "# Import AdaBoostClassifier\n",
    "from sklearn.ensemble import AdaBoostClassifier\n",
    "\n",
    "# Instantiate dt\n",
    "dt = DecisionTreeClassifier(max_depth=2, random_state=1)\n",
    "\n",
    "# Instantiate ada\n",
    "ada = AdaBoostClassifier(base_estimator=dt, n_estimators=180, random_state=1)"
   ]
  },
  {
   "cell_type": "code",
   "execution_count": 7,
   "metadata": {},
   "outputs": [],
   "source": [
    "# exercise 2: Train the AdaBoost classifier"
   ]
  },
  {
   "cell_type": "code",
   "execution_count": 19,
   "metadata": {},
   "outputs": [
    {
     "name": "stdout",
     "output_type": "stream",
     "text": [
      "[0.48766009 0.55418951 0.51921243 0.43926891 0.47732092 0.52519308\n",
      " 0.49235486 0.7124795  0.60950344 0.55051229 0.59791322 0.51055531\n",
      " 0.49465367 0.56453191 0.48368686 0.5929771  0.57332579 0.49180299\n",
      " 0.55586567 0.63671176 0.57658677 0.49592568 0.49968552 0.547432\n",
      " 0.48563625 0.57387496 0.50023951 0.48951048 0.59908865 0.72024892\n",
      " 0.49845777 0.5065494  0.49782885 0.50678095 0.5835487  0.66549909\n",
      " 0.4123509  0.54528444 0.47896774 0.51748472 0.60759261 0.60738142\n",
      " 0.54538028 0.53049161 0.6339782  0.57093478 0.49333084 0.53024335\n",
      " 0.66275964 0.52892576 0.58952004 0.50082124 0.48838653 0.58741738\n",
      " 0.59396335 0.50161923 0.46153584 0.67773    0.47881106 0.59482486\n",
      " 0.5401021  0.47374417 0.50126468 0.69426843 0.50986729 0.57129408\n",
      " 0.48797028 0.54049242 0.52353446 0.52530434 0.64408319 0.5767882\n",
      " 0.49458549 0.48666719 0.45660689 0.56867447 0.49223892 0.49288073\n",
      " 0.48084783 0.48387698 0.5309601  0.50257202 0.50192914 0.50043501\n",
      " 0.55464185 0.50219998 0.49451038 0.48742786 0.53966841 0.63179856\n",
      " 0.47717716 0.52965569 0.58581217 0.55705337 0.50983722 0.50565011\n",
      " 0.51479767 0.5029552  0.47410805 0.52026319 0.58800109 0.56991501\n",
      " 0.62641667 0.54140555 0.49717183 0.49013942 0.49633688 0.72142864\n",
      " 0.70392887 0.51766324 0.48712106 0.46532175 0.58055182 0.60816851\n",
      " 0.48144834 0.56913852]\n"
     ]
    }
   ],
   "source": [
    "df = pd.read_csv(\"datasets/indian_liver_patient_preprocessed.csv\", header=0, index_col=0)\n",
    "y = df['Liver_disease']\n",
    "X = df.drop('Liver_disease', axis=1)\n",
    "\n",
    "X_train, X_test, y_train, y_test = train_test_split(X,y,test_size=0.2,random_state=1)\n",
    "\n",
    "# Fit ada to the training set\n",
    "ada.fit(X_train,y_train)\n",
    "\n",
    "# Compute the probabilities of obtaining the positive class\n",
    "y_pred_proba = ada.predict_proba(X_test)[:,1]\n",
    "\n",
    "print(y_pred_proba)"
   ]
  },
  {
   "cell_type": "code",
   "execution_count": 20,
   "metadata": {},
   "outputs": [],
   "source": [
    "# exercise 3: Evaluate the AdaBoost classifier"
   ]
  },
  {
   "cell_type": "code",
   "execution_count": 21,
   "metadata": {},
   "outputs": [
    {
     "name": "stdout",
     "output_type": "stream",
     "text": [
      "ROC AUC score: 0.63\n"
     ]
    }
   ],
   "source": [
    "# Import roc_auc_score\n",
    "from sklearn.metrics import roc_auc_score\n",
    "\n",
    "# Evaluate test-set roc_auc_score\n",
    "ada_roc_auc = roc_auc_score(y_test, y_pred_proba)\n",
    "\n",
    "# Print roc_auc_score\n",
    "print('ROC AUC score: {:.2f}'.format(ada_roc_auc))"
   ]
  },
  {
   "cell_type": "markdown",
   "metadata": {},
   "source": [
    "##### **Gradient Boosting (GB)**"
   ]
  },
  {
   "cell_type": "markdown",
   "metadata": {},
   "source": [
    "- each predictor in the ensemble corrects its predecessor's error\n",
    "- does not tweak the weights of training instances (unlike AdaBoost)\n",
    "- Fit each predictor is trained using its predecessor's residual errors as labels.\n",
    "- Gradient Boosted Trees: used CART as a base learner\n",
    "![title](https://i.ibb.co/przjM9r/gbtr.jpg)\n",
    "\n",
    "**Shrinkage**\n",
    "- similar to AdaBoost learning rate (eta)\n",
    "- $0<\\eta<1$\n",
    "- use to shrink the prediction $r$\n",
    "- small $\\eta$ should be compensate by a great number of estimators\n",
    "\n",
    "**Prediction**\n",
    "- Regression:\n",
    "    - $y_{pred} = y_1+\\eta r_1+...+\\eta r_N$\n",
    "        - GradientBoostingRegressor\n",
    "- Classification:\n",
    "    - GradientBoostingClassifier"
   ]
  },
  {
   "cell_type": "code",
   "execution_count": 22,
   "metadata": {},
   "outputs": [],
   "source": [
    "# exercise 1: Define the GB regressor"
   ]
  },
  {
   "cell_type": "code",
   "execution_count": 23,
   "metadata": {},
   "outputs": [],
   "source": [
    "# Import GradientBoostingRegressor\n",
    "from sklearn.ensemble import GradientBoostingRegressor\n",
    "\n",
    "# Instantiate gb\n",
    "gb = GradientBoostingRegressor(max_depth=4, \n",
    "            n_estimators=200,\n",
    "            random_state=2)"
   ]
  },
  {
   "cell_type": "code",
   "execution_count": 24,
   "metadata": {},
   "outputs": [],
   "source": [
    "# exercise 2: Train the GB regressor"
   ]
  },
  {
   "cell_type": "code",
   "execution_count": 35,
   "metadata": {},
   "outputs": [],
   "source": [
    "df = pd.read_csv(\"datasets/bike_sharing_demand.csv\", header = 0)\n",
    "y = df['cnt']\n",
    "X = df.drop('cnt', axis=1)\n",
    "\n",
    "X_train, X_test, y_train, y_test = train_test_split(X,y,test_size=0.2,random_state=2)\n",
    "\n",
    "# Fit gb to the training set\n",
    "gb.fit(X_train,y_train)\n",
    "\n",
    "# Predict test set labels\n",
    "y_pred = gb.predict(X_test)"
   ]
  },
  {
   "cell_type": "code",
   "execution_count": 37,
   "metadata": {},
   "outputs": [],
   "source": [
    "# exercise 3: Evaluate the GB regressor"
   ]
  },
  {
   "cell_type": "code",
   "execution_count": 39,
   "metadata": {},
   "outputs": [
    {
     "name": "stdout",
     "output_type": "stream",
     "text": [
      "Test set RMSE of gb: 49.537\n"
     ]
    }
   ],
   "source": [
    "# Import mean_squared_error as MSE\n",
    "from sklearn.metrics import mean_squared_error as MSE\n",
    "\n",
    "# Compute MSE\n",
    "mse_test = MSE(y_pred, y_test)\n",
    "\n",
    "# Compute RMSE\n",
    "rmse_test = mse_test**0.5\n",
    "\n",
    "# Print RMSE\n",
    "print('Test set RMSE of gb: {:.3f}'.format(rmse_test))"
   ]
  },
  {
   "cell_type": "markdown",
   "metadata": {},
   "source": [
    "##### **Stochastic Gradient Boosting (SGB)**"
   ]
  },
  {
   "cell_type": "markdown",
   "metadata": {},
   "source": [
    "**Background**\n",
    "- Cons of Gradient Boosting\n",
    "    - exhaustive search procedure\n",
    "- each CART is trained to find the best split points and features\n",
    "    - may lead to CARTs using the same split points and maybe the same features\n",
    "\n",
    "solution: Stochastic Gradient Boosting\n",
    "\n",
    "**SGB**\n",
    "- each tree is trained on a random subset of rows of the training data\n",
    "- the sampled instances (40%-80% of the training set) are sampled without replacement\n",
    "- features are sampled without replacement when choosing split points\n",
    "- Results: create diversity, add variances to the ensemble of trees\n",
    "\n",
    "![title](https://i.ibb.co/b5cgX6q/sbggga.jpg)"
   ]
  },
  {
   "cell_type": "code",
   "execution_count": 40,
   "metadata": {},
   "outputs": [],
   "source": [
    "# exercise 1: Regression with SGB"
   ]
  },
  {
   "cell_type": "code",
   "execution_count": 43,
   "metadata": {},
   "outputs": [],
   "source": [
    "# Import GradientBoostingRegressor\n",
    "from sklearn.ensemble import GradientBoostingRegressor\n",
    "\n",
    "# Instantiate sgbr\n",
    "sgbr = GradientBoostingRegressor(max_depth=4, \n",
    "            subsample=0.9, # each tree samples 90% of data for training\n",
    "            max_features=0.75, # each tree uses 75% of available features to perform best-split\n",
    "            n_estimators=200,                                \n",
    "            random_state=2)"
   ]
  },
  {
   "cell_type": "code",
   "execution_count": 41,
   "metadata": {},
   "outputs": [],
   "source": [
    "# exercise 2: Train the SGB regressor"
   ]
  },
  {
   "cell_type": "code",
   "execution_count": 45,
   "metadata": {},
   "outputs": [],
   "source": [
    "df = pd.read_csv(\"datasets/bike_sharing_demand.csv\", header = 0)\n",
    "y = df['cnt']\n",
    "X = df.drop('cnt', axis=1)\n",
    "\n",
    "X_train, X_test, y_train, y_test = train_test_split(X,y,test_size=0.2,random_state=2)\n",
    "\n",
    "# Fit sgbr to the training set\n",
    "sgbr.fit(X_train,y_train)\n",
    "\n",
    "# Predict test set labels\n",
    "y_pred = sgbr.predict(X_test)"
   ]
  },
  {
   "cell_type": "code",
   "execution_count": null,
   "metadata": {},
   "outputs": [],
   "source": [
    "# exercise 3: Evaluate the SGB regressor"
   ]
  },
  {
   "cell_type": "code",
   "execution_count": 46,
   "metadata": {},
   "outputs": [
    {
     "name": "stdout",
     "output_type": "stream",
     "text": [
      "Test set RMSE of sgbr: 47.260\n"
     ]
    }
   ],
   "source": [
    "# Import mean_squared_error as MSE\n",
    "from sklearn.metrics import mean_squared_error as MSE\n",
    "\n",
    "# Compute test set MSE\n",
    "mse_test = MSE(y_test,y_pred)\n",
    "\n",
    "# Compute test set RMSE\n",
    "rmse_test = mse_test**0.5\n",
    "\n",
    "# Print rmse_test\n",
    "print('Test set RMSE of sgbr: {:.3f}'.format(rmse_test))"
   ]
  },
  {
   "cell_type": "markdown",
   "metadata": {},
   "source": [
    "#### **Chap 5: Model Tuning**"
   ]
  },
  {
   "cell_type": "markdown",
   "metadata": {},
   "source": [
    "##### **Tuning a CART's Hyperparameters**"
   ]
  },
  {
   "cell_type": "markdown",
   "metadata": {},
   "source": [
    "**Background**\n",
    "- parameters: learned from data\n",
    "    - CART example: split of a node, split-feature of a node\n",
    "- hyperparameter: not learned from data, set prior to training\n",
    "    - CART example: max_depth, min_samples_leaf, splitting criterion"
   ]
  },
  {
   "cell_type": "markdown",
   "metadata": {},
   "source": [
    "**Hyperparameter tuning**\n",
    "- **Problem:** search for a set of optimal hyperparameters for a learning algorithm.\n",
    "- **Solution:** find a set of optimal hyperparameters that results in an optimal model.\n",
    "- **Optimal model:** yields an optimal score\n",
    "- **Score:** accuracy (classification) and $R^2$(regression)\n",
    "- cross-validation(CV) is used to estimate the generalization performance.\n",
    "\n",
    "**Why tune hyperparameter?**\n",
    "- default hyperparameter are not optimal for all problems\n",
    "- it should be tune for the best model performance\n",
    "\n",
    "**Hyperparameter: the approach**\n",
    "- Grid search\n",
    "- Random search\n",
    "- Bayesian Optimization\n",
    "- Genetic Algorithms"
   ]
  },
  {
   "cell_type": "markdown",
   "metadata": {},
   "source": [
    "##### **Grid search CV**\n",
    "- Manually set a grid of discrete hyperparameter values.\n",
    "- Set a metric for scoring model performance\n",
    "- Search *exhaustively* through the grid.\n",
    "- For each set of hyperparameter, evaluate each model's CV score.\n",
    "- The optimal hyperparameters are those of the model achieving the best CV score.\n",
    "- The bigger the grid, the longer it takes to find the solution."
   ]
  },
  {
   "cell_type": "code",
   "execution_count": null,
   "metadata": {},
   "outputs": [],
   "source": [
    "# exercise 1: Tree hyperparameters"
   ]
  },
  {
   "cell_type": "markdown",
   "metadata": {},
   "source": [
    "Which of the following is not a hyperparameter of dt (DecisionTreeClassifier)?\\\n",
    "A) min_impurity_decrease\\\n",
    "B) min_weight_fraction_leaf\\\n",
    "C) min_features\\\n",
    "D) splitter \\\n",
    "<b>*Answer: C*</b>"
   ]
  },
  {
   "cell_type": "code",
   "execution_count": null,
   "metadata": {},
   "outputs": [],
   "source": [
    "# exercise 2: Set the tree's hyperparameter grid"
   ]
  },
  {
   "cell_type": "code",
   "execution_count": 1,
   "metadata": {},
   "outputs": [],
   "source": [
    "# Define params_dt\n",
    "params_dt = {\n",
    "    'max_depth': [2,3,4],\n",
    "    'min_samples_leaf': [0.12, 0.14, 0.16, 0.18]\n",
    "}"
   ]
  },
  {
   "cell_type": "code",
   "execution_count": 2,
   "metadata": {},
   "outputs": [],
   "source": [
    "# exercise 3: Search for the optimal tree"
   ]
  },
  {
   "cell_type": "code",
   "execution_count": 10,
   "metadata": {},
   "outputs": [],
   "source": [
    "# Import GridSearchCV\n",
    "from sklearn.model_selection import GridSearchCV\n",
    "\n",
    "dt = DecisionTreeClassifier(criterion='gini',random_state=1,splitter='best')\n",
    "\n",
    "# Instantiate grid_dt\n",
    "grid_dt = GridSearchCV(estimator=dt,\n",
    "                       param_grid=params_dt,\n",
    "                       scoring='roc_auc',\n",
    "                       cv=5,\n",
    "                       n_jobs=-1)"
   ]
  },
  {
   "cell_type": "code",
   "execution_count": null,
   "metadata": {},
   "outputs": [],
   "source": [
    "# exercise 4: Evaluate the optimal tree"
   ]
  },
  {
   "cell_type": "code",
   "execution_count": 14,
   "metadata": {},
   "outputs": [
    {
     "name": "stdout",
     "output_type": "stream",
     "text": [
      "Test set ROC AUC score: 0.707\n"
     ]
    }
   ],
   "source": [
    "# Import roc_auc_score from sklearn.metrics \n",
    "from sklearn.metrics import roc_auc_score\n",
    "\n",
    "df = pd.read_csv('datasets/indian_liver_patient_preprocessed.csv', header=0)\n",
    "y = df['Liver_disease']\n",
    "X = df.drop('Liver_disease', axis=1)\n",
    "\n",
    "X_train, X_test, y_train, y_test = train_test_split(X,y,test_size = 0.3, random_state=1)\n",
    "\n",
    "grid_dt.fit(X_train, y_train)\n",
    "\n",
    "# Extract the best estimator\n",
    "best_model = grid_dt.best_estimator_\n",
    "\n",
    "# Predict the test set probabilities of the positive class\n",
    "y_pred_proba = best_model.predict_proba(X_test)[:,1]\n",
    "\n",
    "# Compute test_roc_auc\n",
    "test_roc_auc = roc_auc_score(y_test, y_pred_proba)\n",
    "\n",
    "# Print test_roc_auc\n",
    "print('Test set ROC AUC score: {:.3f}'.format(test_roc_auc))"
   ]
  },
  {
   "cell_type": "markdown",
   "metadata": {},
   "source": [
    "##### **Tuning a RF's Hyperparameters**"
   ]
  },
  {
   "cell_type": "markdown",
   "metadata": {},
   "source": [
    "**Background:**\n",
    "- Hyperparameter tuning is computational expensive\n",
    "    - sometimes leads to a very slight improvement\n",
    "Better to weight the impact of tuning on the whole project\n",
    "\n",
    "**RF uses:**\n",
    "- CART hyperparameters\n",
    "- number of estimators\n",
    "- boostrap\n"
   ]
  },
  {
   "cell_type": "code",
   "execution_count": null,
   "metadata": {},
   "outputs": [],
   "source": [
    "# exercise 1: Random forests hyperparameters"
   ]
  },
  {
   "cell_type": "markdown",
   "metadata": {},
   "source": [
    "Which of the following is not a hyperparameter of rf(RandomForestRegressor)?\\\n",
    "A) min_weight_fraction_leaf\\\n",
    "B) criterion\\\n",
    "C) learning_rate\\\n",
    "D) warm_start \\\n",
    "<b>*Answer: C*</b>"
   ]
  },
  {
   "cell_type": "code",
   "execution_count": null,
   "metadata": {},
   "outputs": [],
   "source": [
    "# exercise 2: Set the hyperparameter grid of RF"
   ]
  },
  {
   "cell_type": "code",
   "execution_count": 20,
   "metadata": {},
   "outputs": [],
   "source": [
    "from sklearn.ensemble import RandomForestRegressor\n",
    "\n",
    "rf = RandomForestRegressor()\n",
    "# Define the dictionary 'params_rf'\n",
    "params_rf = {\n",
    "    'n_estimators': [100, 350, 500],\n",
    "    'max_features': ['log2', 'auto', 'sqrt'],\n",
    "    'min_samples_leaf': [2, 10, 30]\n",
    "}"
   ]
  },
  {
   "cell_type": "code",
   "execution_count": 21,
   "metadata": {},
   "outputs": [],
   "source": [
    "# exercise 3: Search for the optimal forest"
   ]
  },
  {
   "cell_type": "code",
   "execution_count": 23,
   "metadata": {},
   "outputs": [],
   "source": [
    "# Import GridSearchCV\n",
    "from sklearn.model_selection import GridSearchCV\n",
    "\n",
    "# Instantiate grid_rf\n",
    "grid_rf = GridSearchCV(estimator=rf,\n",
    "                       param_grid=params_rf,\n",
    "                       scoring='neg_mean_squared_error',\n",
    "                       cv=3,\n",
    "                       verbose=1,\n",
    "                       n_jobs=-1)"
   ]
  },
  {
   "cell_type": "code",
   "execution_count": null,
   "metadata": {},
   "outputs": [],
   "source": [
    "# exercise 4: Evaluate the optimal forest"
   ]
  },
  {
   "cell_type": "code",
   "execution_count": 24,
   "metadata": {},
   "outputs": [
    {
     "name": "stdout",
     "output_type": "stream",
     "text": [
      "Fitting 3 folds for each of 27 candidates, totalling 81 fits\n",
      "Test RMSE of best model: 51.116\n"
     ]
    }
   ],
   "source": [
    "# Import mean_squared_error from sklearn.metrics as MSE \n",
    "from sklearn.metrics import  mean_squared_error as MSE\n",
    "\n",
    "df = pd.read_csv('datasets/bike_sharing_demand.csv', header=0)\n",
    "y = df['cnt']\n",
    "X = df.drop('cnt',axis=1)\n",
    "\n",
    "X_train, X_test, y_train, y_test = train_test_split(X,y,test_size=0.2,random_state=1)\n",
    "\n",
    "grid_rf.fit(X_train, y_train)\n",
    "\n",
    "# Extract the best estimator\n",
    "best_model = grid_rf.best_estimator_\n",
    "\n",
    "# Predict test set labels\n",
    "y_pred = best_model.predict(X_test)\n",
    "\n",
    "# Compute rmse_test\n",
    "rmse_test = MSE(y_test,y_pred)**0.5\n",
    "\n",
    "# Print rmse_test\n",
    "print('Test RMSE of best model: {:.3f}'.format(rmse_test)) "
   ]
  }
 ],
 "metadata": {
  "interpreter": {
   "hash": "eed0a907aab4b200afcc6c5783b0f4640cec07bc8831b08928d162575f60996d"
  },
  "kernelspec": {
   "display_name": "Python 3.9.1 64-bit",
   "language": "python",
   "name": "python3"
  },
  "language_info": {
   "codemirror_mode": {
    "name": "ipython",
    "version": 3
   },
   "file_extension": ".py",
   "mimetype": "text/x-python",
   "name": "python",
   "nbconvert_exporter": "python",
   "pygments_lexer": "ipython3",
   "version": "3.9.1"
  },
  "orig_nbformat": 4
 },
 "nbformat": 4,
 "nbformat_minor": 2
}
