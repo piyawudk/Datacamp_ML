{
 "cells": [
  {
   "cell_type": "markdown",
   "metadata": {},
   "source": [
    "### **Road To ML: Course 2 - Unsupervised Learning in Python**"
   ]
  },
  {
   "cell_type": "markdown",
   "metadata": {},
   "source": [
    "#### **Chap 1: Clustering for dataset exploration**"
   ]
  },
  {
   "cell_type": "code",
   "execution_count": 238,
   "metadata": {},
   "outputs": [],
   "source": [
    "# Import plotting modules\n",
    "import matplotlib.pyplot as plt\n",
    "import seaborn as sns\n",
    "import pandas as pd\n",
    "import numpy as np\n",
    "plt.style.use('ggplot')"
   ]
  },
  {
   "cell_type": "markdown",
   "metadata": {},
   "source": [
    "##### **Unsupervised learning**"
   ]
  },
  {
   "cell_type": "markdown",
   "metadata": {},
   "source": [
    "##### K-means clustering for Iris dataset"
   ]
  },
  {
   "cell_type": "code",
   "execution_count": 239,
   "metadata": {},
   "outputs": [],
   "source": [
    "# k-means clustering with scikit-learn\n",
    "\n",
    "from sklearn.datasets import load_iris\n",
    "samples = load_iris()['data']"
   ]
  },
  {
   "cell_type": "code",
   "execution_count": 240,
   "metadata": {
    "scrolled": true
   },
   "outputs": [
    {
     "name": "stdout",
     "output_type": "stream",
     "text": [
      "[[4.8 3.  1.4 0.3]\n",
      " [5.1 3.8 1.6 0.2]\n",
      " [4.6 3.2 1.4 0.2]\n",
      " [5.3 3.7 1.5 0.2]\n",
      " [5.  3.3 1.4 0.2]\n",
      " [7.  3.2 4.7 1.4]\n",
      " [6.4 3.2 4.5 1.5]\n",
      " [6.9 3.1 4.9 1.5]\n",
      " [5.5 2.3 4.  1.3]\n",
      " [6.5 2.8 4.6 1.5]]\n"
     ]
    }
   ],
   "source": [
    "print(samples[45:55])"
   ]
  },
  {
   "cell_type": "code",
   "execution_count": 241,
   "metadata": {},
   "outputs": [
    {
     "data": {
      "text/plain": [
       "KMeans(n_clusters=3)"
      ]
     },
     "execution_count": 241,
     "metadata": {},
     "output_type": "execute_result"
    }
   ],
   "source": [
    "from sklearn.cluster import KMeans\n",
    "model = KMeans(n_clusters=3)\n",
    "model.fit(samples)"
   ]
  },
  {
   "cell_type": "code",
   "execution_count": 242,
   "metadata": {},
   "outputs": [
    {
     "name": "stdout",
     "output_type": "stream",
     "text": [
      "[0 0 0 0 0 1 1 2 1 1]\n"
     ]
    }
   ],
   "source": [
    "labels = model.predict(samples)\n",
    "print(labels[45:55])"
   ]
  },
  {
   "cell_type": "code",
   "execution_count": 243,
   "metadata": {},
   "outputs": [
    {
     "name": "stdout",
     "output_type": "stream",
     "text": [
      "[[6.5 3.  5.2 2. ]\n",
      " [6.2 3.4 5.4 2.3]\n",
      " [5.9 3.  5.1 1.8]]\n"
     ]
    }
   ],
   "source": [
    "# Cluster labels for new samples\n",
    "\n",
    "new_samples = samples[-3:]\n",
    "print(new_samples)"
   ]
  },
  {
   "cell_type": "code",
   "execution_count": 244,
   "metadata": {},
   "outputs": [
    {
     "name": "stdout",
     "output_type": "stream",
     "text": [
      "[2 2 1]\n"
     ]
    }
   ],
   "source": [
    "new_labels = model.predict(new_samples)\n",
    "print(new_labels)"
   ]
  },
  {
   "cell_type": "markdown",
   "metadata": {},
   "source": [
    "##### Scatter plots"
   ]
  },
  {
   "cell_type": "code",
   "execution_count": 245,
   "metadata": {},
   "outputs": [
    {
     "data": {
      "image/png": "[encoded data removed]",
      "text/plain": [
       "<Figure size 432x288 with 1 Axes>"
      ]
     },
     "metadata": {},
     "output_type": "display_data"
    }
   ],
   "source": [
    "xs = samples[:,0]\n",
    "ys = samples[:,2]\n",
    "plt.scatter(xs, ys, c=labels, s=10)\n",
    "plt.show()"
   ]
  },
  {
   "cell_type": "code",
   "execution_count": 246,
   "metadata": {},
   "outputs": [],
   "source": [
    "# EXERCISES"
   ]
  },
  {
   "cell_type": "code",
   "execution_count": 247,
   "metadata": {},
   "outputs": [],
   "source": [
    "# How many clusters?\n",
    "\n",
    "points = np.array([[ 0.06544649, -0.76866376],\n",
    "       [-1.52901547, -0.42953079],\n",
    "       [ 1.70993371,  0.69885253],\n",
    "       [ 1.16779145,  1.01262638],\n",
    "       [-1.80110088, -0.31861296],\n",
    "       [-1.63567888, -0.02859535],\n",
    "       [ 1.21990375,  0.74643463],\n",
    "       [-0.26175155, -0.62492939],\n",
    "       [-1.61925804, -0.47983949],\n",
    "       [-1.84329582, -0.16694431],\n",
    "       [ 1.35999602,  0.94995827],\n",
    "       [ 0.42291856, -0.7349534 ],\n",
    "       [-1.68576139,  0.10686728],\n",
    "       [ 0.90629995,  1.09105162],\n",
    "       [-1.56478322, -0.84675394],\n",
    "       [-0.0257849 , -1.18672539],\n",
    "       [ 0.83027324,  1.14504612],\n",
    "       [ 1.22450432,  1.35066759],\n",
    "       [-0.15394596, -0.71704301],\n",
    "       [ 0.86358809,  1.06824613],\n",
    "       [-1.43386366, -0.2381297 ],\n",
    "       [ 0.03844769, -0.74635022],\n",
    "       [-1.58567922,  0.08499354],\n",
    "       [ 0.6359888 , -0.58477698],\n",
    "       [ 0.24417242, -0.53172465],\n",
    "       [-2.19680359,  0.49473677],\n",
    "       [ 1.0323503 , -0.55688   ],\n",
    "       [-0.28858067, -0.39972528],\n",
    "       [ 0.20597008, -0.80171536],\n",
    "       [-1.2107308 , -0.34924109],\n",
    "       [ 1.33423684,  0.7721489 ],\n",
    "       [ 1.19480152,  1.04788556],\n",
    "       [ 0.9917477 ,  0.89202008],\n",
    "       [-1.8356219 , -0.04839732],\n",
    "       [ 0.08415721, -0.71564326],\n",
    "       [-1.48970175, -0.19299604],\n",
    "       [ 0.38782418, -0.82060119],\n",
    "       [-0.01448044, -0.9779841 ],\n",
    "       [-2.0521341 , -0.02129125],\n",
    "       [ 0.10331194, -0.82162781],\n",
    "       [-0.44189315, -0.65710974],\n",
    "       [ 1.10390926,  1.02481182],\n",
    "       [-1.59227759, -0.17374038],\n",
    "       [-1.47344152, -0.02202853],\n",
    "       [-1.35514704,  0.22971067],\n",
    "       [ 0.0412337 , -1.23776622],\n",
    "       [ 0.4761517 , -1.13672124],\n",
    "       [ 1.04335676,  0.82345905],\n",
    "       [-0.07961882, -0.85677394],\n",
    "       [ 0.87065059,  1.08052841],\n",
    "       [ 1.40267313,  1.07525119],\n",
    "       [ 0.80111157,  1.28342825],\n",
    "       [-0.16527516, -1.23583804],\n",
    "       [-0.33779221, -0.59194323],\n",
    "       [ 0.80610749, -0.73752159],\n",
    "       [-1.43590032, -0.56384446],\n",
    "       [ 0.54868895, -0.95143829],\n",
    "       [ 0.46803131, -0.74973907],\n",
    "       [-1.5137129 , -0.83914323],\n",
    "       [ 0.9138436 ,  1.51126532],\n",
    "       [-1.97233903, -0.41155375],\n",
    "       [ 0.5213406 , -0.88654894],\n",
    "       [ 0.62759494, -1.18590477],\n",
    "       [ 0.94163014,  1.35399335],\n",
    "       [ 0.56994768,  1.07036606],\n",
    "       [-1.87663382,  0.14745773],\n",
    "       [ 0.90612186,  0.91084011],\n",
    "       [-1.37481454,  0.28428395],\n",
    "       [-1.80564029, -0.96710574],\n",
    "       [ 0.34307757, -0.79999275],\n",
    "       [ 0.70380566,  1.00025804],\n",
    "       [-1.68489862, -0.30564595],\n",
    "       [ 1.31473221,  0.98614978],\n",
    "       [ 0.26151216, -0.26069251],\n",
    "       [ 0.9193121 ,  0.82371485],\n",
    "       [-1.21795929, -0.20219674],\n",
    "       [-0.17722723, -1.02665245],\n",
    "       [ 0.64824862, -0.66822881],\n",
    "       [ 0.41206786, -0.28783784],\n",
    "       [ 1.01568202,  1.13481667],\n",
    "       [ 0.67900254, -0.91489502],\n",
    "       [-1.05182747, -0.01062376],\n",
    "       [ 0.61306599,  1.78210384],\n",
    "       [-1.50219748, -0.52308922],\n",
    "       [-1.72717293, -0.46173916],\n",
    "       [-1.60995631, -0.1821007 ],\n",
    "       [-1.09111021, -0.0781398 ],\n",
    "       [-0.01046978, -0.80913034],\n",
    "       [ 0.32782303, -0.80734754],\n",
    "       [ 1.22038503,  1.1959793 ],\n",
    "       [-1.33328681, -0.30001937],\n",
    "       [ 0.87959517,  1.11566491],\n",
    "       [-1.14829098, -0.30400762],\n",
    "       [-0.58019755, -1.19996018],\n",
    "       [-0.01161159, -0.78468854],\n",
    "       [ 0.17359724, -0.63398145],\n",
    "       [ 1.32738556,  0.67759969],\n",
    "       [-1.93467327,  0.30572472],\n",
    "       [-1.57761893, -0.27726365],\n",
    "       [ 0.47639   ,  1.21422648],\n",
    "       [-1.65237509, -0.6803981 ],\n",
    "       [-0.12609976, -1.04327457],\n",
    "       [-1.89607082, -0.70085502],\n",
    "       [ 0.57466899,  0.74878369],\n",
    "       [-0.16660312, -0.83110295],\n",
    "       [ 0.8013355 ,  1.22244435],\n",
    "       [ 1.18455426,  1.4346467 ],\n",
    "       [ 1.08864428,  0.64667112],\n",
    "       [-1.61158505,  0.22805725],\n",
    "       [-1.57512205, -0.09612576],\n",
    "       [ 0.0721357 , -0.69640328],\n",
    "       [-1.40054298,  0.16390598],\n",
    "       [ 1.09607713,  1.16804691],\n",
    "       [-2.54346204, -0.23089822],\n",
    "       [-1.34544875,  0.25151126],\n",
    "       [-1.35478629, -0.19103317],\n",
    "       [ 0.18368113, -1.15827725],\n",
    "       [-1.31368677, -0.376357  ],\n",
    "       [ 0.09990129,  1.22500491],\n",
    "       [ 1.17225574,  1.30835143],\n",
    "       [ 0.0865397 , -0.79714371],\n",
    "       [-0.21053923, -1.13421511],\n",
    "       [ 0.26496024, -0.94760742],\n",
    "       [-0.2557591 , -1.06266022],\n",
    "       [-0.26039757, -0.74774225],\n",
    "       [-1.91787359,  0.16434571],\n",
    "       [ 0.93021139,  0.49436331],\n",
    "       [ 0.44770467, -0.72877918],\n",
    "       [-1.63802869, -0.58925528],\n",
    "       [-1.95712763, -0.10125137],\n",
    "       [ 0.9270337 ,  0.88251423],\n",
    "       [ 1.25660093,  0.60828073],\n",
    "       [-1.72818632,  0.08416887],\n",
    "       [ 0.3499788 , -0.30490298],\n",
    "       [-1.51696082, -0.50913109],\n",
    "       [ 0.18763605, -0.55424924],\n",
    "       [ 0.89609809,  0.83551508],\n",
    "       [-1.54968857, -0.17114782],\n",
    "       [ 1.2157457 ,  1.23317728],\n",
    "       [ 0.20307745, -1.03784906],\n",
    "       [ 0.84589086,  1.03615273],\n",
    "       [ 0.53237919,  1.47362884],\n",
    "       [-0.05319044, -1.36150553],\n",
    "       [ 1.38819743,  1.11729915],\n",
    "       [ 1.00696304,  1.0367721 ],\n",
    "       [ 0.56681869, -1.09637176],\n",
    "       [ 0.86888296,  1.05248874],\n",
    "       [-1.16286609, -0.55875245],\n",
    "       [ 0.27717768, -0.83844015],\n",
    "       [ 0.16563267, -0.80306607],\n",
    "       [ 0.38263303, -0.42683241],\n",
    "       [ 1.14519807,  0.89659026],\n",
    "       [ 0.81455857,  0.67533667],\n",
    "       [-1.8603152 , -0.09537561],\n",
    "       [ 0.965641  ,  0.90295579],\n",
    "       [-1.49897451, -0.33254044],\n",
    "       [-0.1335489 , -0.80727582],\n",
    "       [ 0.12541527, -1.13354906],\n",
    "       [ 1.06062436,  1.28816358],\n",
    "       [-1.49154578, -0.2024641 ],\n",
    "       [ 1.16189032,  1.28819877],\n",
    "       [ 0.54282033,  0.75203524],\n",
    "       [ 0.89221065,  0.99211624],\n",
    "       [-1.49932011, -0.32430667],\n",
    "       [ 0.3166647 , -1.34482915],\n",
    "       [ 0.13972469, -1.22097448],\n",
    "       [-1.5499724 , -0.10782584],\n",
    "       [ 1.23846858,  1.37668804],\n",
    "       [ 1.25558954,  0.72026098],\n",
    "       [ 0.25558689, -1.28529763],\n",
    "       [ 0.45168933, -0.55952093],\n",
    "       [ 1.06202057,  1.03404604],\n",
    "       [ 0.67451908, -0.54970299],\n",
    "       [ 0.22759676, -1.02729468],\n",
    "       [-1.45835281, -0.04951074],\n",
    "       [ 0.23273501, -0.70849262],\n",
    "       [ 1.59679589,  1.11395076],\n",
    "       [ 0.80476105,  0.544627  ],\n",
    "       [ 1.15492521,  1.04352191],\n",
    "       [ 0.59632776, -1.19142897],\n",
    "       [ 0.02839068, -0.43829366],\n",
    "       [ 1.13451584,  0.5632633 ],\n",
    "       [ 0.21576204, -1.04445753],\n",
    "       [ 1.41048987,  1.02830719],\n",
    "       [ 1.12289302,  0.58029441],\n",
    "       [ 0.25200688, -0.82588436],\n",
    "       [-1.28566081, -0.07390909],\n",
    "       [ 1.52849815,  1.11822469],\n",
    "       [-0.23907858, -0.70541972],\n",
    "       [-0.25792784, -0.81825035],\n",
    "       [ 0.59367818, -0.45239915],\n",
    "       [ 0.07931909, -0.29233213],\n",
    "       [-1.27256815,  0.11630577],\n",
    "       [ 0.66930129,  1.00731481],\n",
    "       [ 0.34791546, -1.20822877],\n",
    "       [-2.11283993, -0.66897935],\n",
    "       [-1.6293824 , -0.32718222],\n",
    "       [-1.53819139, -0.01501972],\n",
    "       [-0.11988545, -0.6036339 ],\n",
    "       [-1.54418956, -0.30389844],\n",
    "       [ 0.30026614, -0.77723173],\n",
    "       [ 0.00935449, -0.53888192],\n",
    "       [-1.33424393, -0.11560431],\n",
    "       [ 0.47504489,  0.78421384],\n",
    "       [ 0.59313264,  1.232239  ],\n",
    "       [ 0.41370369, -1.35205857],\n",
    "       [ 0.55840948,  0.78831053],\n",
    "       [ 0.49855018, -0.789949  ],\n",
    "       [ 0.35675809, -0.81038693],\n",
    "       [-1.86197825, -0.59071305],\n",
    "       [-1.61977671, -0.16076687],\n",
    "       [ 0.80779295, -0.73311294],\n",
    "       [ 1.62745775,  0.62787163],\n",
    "       [-1.56993593, -0.08467567],\n",
    "       [ 1.02558561,  0.89383302],\n",
    "       [ 0.24293461, -0.6088253 ],\n",
    "       [ 1.23130242,  1.00262186],\n",
    "       [-1.9651013 , -0.15886289],\n",
    "       [ 0.42795032, -0.70384432],\n",
    "       [-1.58306818, -0.19431923],\n",
    "       [-1.57195922,  0.01413469],\n",
    "       [-0.98145373,  0.06132285],\n",
    "       [-1.48637844, -0.5746531 ],\n",
    "       [ 0.98745828,  0.69188053],\n",
    "       [ 1.28619721,  1.28128821],\n",
    "       [ 0.85850596,  0.95541481],\n",
    "       [ 0.19028286, -0.82112942],\n",
    "       [ 0.26561046, -0.04255239],\n",
    "       [-1.61897897,  0.00862372],\n",
    "       [ 0.24070183, -0.52664209],\n",
    "       [ 1.15220993,  0.43916694],\n",
    "       [-1.21967812, -0.2580313 ],\n",
    "       [ 0.33412533, -0.86117761],\n",
    "       [ 0.17131003, -0.75638965],\n",
    "       [-1.19828397, -0.73744665],\n",
    "       [-0.12245932, -0.45648879],\n",
    "       [ 1.51200698,  0.88825741],\n",
    "       [ 1.10338866,  0.92347479],\n",
    "       [ 1.30972095,  0.59066989],\n",
    "       [ 0.19964876,  1.14855889],\n",
    "       [ 0.81460515,  0.84538972],\n",
    "       [-1.6422739 , -0.42296206],\n",
    "       [ 0.01224351, -0.21247816],\n",
    "       [ 0.33709102, -0.74618065],\n",
    "       [ 0.47301054,  0.72712075],\n",
    "       [ 0.34706626,  1.23033757],\n",
    "       [-0.00393279, -0.97209694],\n",
    "       [-1.64303119,  0.05276337],\n",
    "       [ 1.44649625,  1.14217033],\n",
    "       [-1.93030087, -0.40026146],\n",
    "       [-2.37296135, -0.72633645],\n",
    "       [ 0.45860122, -1.06048953],\n",
    "       [ 0.4896361 , -1.18928313],\n",
    "       [-1.02335902, -0.17520578],\n",
    "       [-1.32761107, -0.93963549],\n",
    "       [-1.50987909, -0.09473658],\n",
    "       [ 0.02723057, -0.79870549],\n",
    "       [ 1.0169412 ,  1.26461701],\n",
    "       [ 0.47733527, -0.9898471 ],\n",
    "       [-1.27784224, -0.547416  ],\n",
    "       [ 0.49898802, -0.6237259 ],\n",
    "       [ 1.06004731,  0.86870008],\n",
    "       [ 1.00207501,  1.38293512],\n",
    "       [ 1.31161394,  0.62833956],\n",
    "       [ 1.13428443,  1.18346542],\n",
    "       [ 1.27671346,  0.96632878],\n",
    "       [-0.63342885, -0.97768251],\n",
    "       [ 0.12698779, -0.93142317],\n",
    "       [-1.34510812, -0.23754226],\n",
    "       [-0.53162278, -1.25153594],\n",
    "       [ 0.21959934, -0.90269938],\n",
    "       [-1.78997479, -0.12115748],\n",
    "       [ 1.23197473, -0.07453764],\n",
    "       [ 1.4163536 ,  1.21551752],\n",
    "       [-1.90280976, -0.1638976 ],\n",
    "       [-0.22440081, -0.75454248],\n",
    "       [ 0.59559412,  0.92414553],\n",
    "       [ 1.21930773,  1.08175284],\n",
    "       [-1.99427535, -0.37587799],\n",
    "       [-1.27818474, -0.52454551],\n",
    "       [ 0.62352689, -1.01430108],\n",
    "       [ 0.14024251, -0.428266  ],\n",
    "       [-0.16145713, -1.16359731],\n",
    "       [-1.74795865, -0.06033101],\n",
    "       [-1.16659791,  0.0902393 ],\n",
    "       [ 0.41110408, -0.8084249 ],\n",
    "       [ 1.14757168,  0.77804528],\n",
    "       [-1.65590748, -0.40105446],\n",
    "       [-1.15306865,  0.00858699],\n",
    "       [ 0.60892121,  0.68974833],\n",
    "       [-0.08434138, -0.97615256],\n",
    "       [ 0.19170053, -0.42331438],\n",
    "       [ 0.29663162, -1.13357399],\n",
    "       [-1.36893628, -0.25052124],\n",
    "       [-0.08037807, -0.56784155],\n",
    "       [ 0.35695011, -1.15064408],\n",
    "       [ 0.02482179, -0.63594828],\n",
    "       [-1.49075558, -0.2482507 ],\n",
    "       [-1.408588  ,  0.25635431],\n",
    "       [-1.98274626, -0.54584475]])"
   ]
  },
  {
   "cell_type": "code",
   "execution_count": 248,
   "metadata": {},
   "outputs": [
    {
     "data": {
      "image/png": "[encoded data removed]",
      "text/plain": [
       "<Figure size 432x288 with 1 Axes>"
      ]
     },
     "metadata": {},
     "output_type": "display_data"
    }
   ],
   "source": [
    "plt.scatter(points[:,0],points[:,1], s=10)\n",
    "plt.show()"
   ]
  },
  {
   "cell_type": "code",
   "execution_count": 249,
   "metadata": {},
   "outputs": [],
   "source": [
    "# Clustering 2D points\n",
    "\n",
    "new_points = np.array([[  4.00233332e-01,  -1.26544471e+00],\n",
    "       [  8.03230370e-01,   1.28260167e+00],\n",
    "       [ -1.39507552e+00,   5.57292921e-02],\n",
    "       [ -3.41192677e-01,  -1.07661994e+00],\n",
    "       [  1.54781747e+00,   1.40250049e+00],\n",
    "       [  2.45032018e-01,  -4.83442328e-01],\n",
    "       [  1.20706886e+00,   8.88752605e-01],\n",
    "       [  1.25132628e+00,   1.15555395e+00],\n",
    "       [  1.81004415e+00,   9.65530731e-01],\n",
    "       [ -1.66963401e+00,  -3.08103509e-01],\n",
    "       [ -7.17482105e-02,  -9.37939700e-01],\n",
    "       [  6.82631927e-01,   1.10258160e+00],\n",
    "       [  1.09039598e+00,   1.43899529e+00],\n",
    "       [ -1.67645414e+00,  -5.04557049e-01],\n",
    "       [ -1.84447804e+00,   4.52539544e-02],\n",
    "       [  1.24234851e+00,   1.02088661e+00],\n",
    "       [ -1.86147041e+00,   6.38645811e-03],\n",
    "       [ -1.46044943e+00,   1.53252383e-01],\n",
    "       [  4.98981817e-01,   8.98006058e-01],\n",
    "       [  9.83962244e-01,   1.04369375e+00],\n",
    "       [ -1.83136742e+00,  -1.63632835e-01],\n",
    "       [  1.30622617e+00,   1.07658717e+00],\n",
    "       [  3.53420328e-01,  -7.51320218e-01],\n",
    "       [  1.13957970e+00,   1.54503860e+00],\n",
    "       [  2.93995694e-01,  -1.26135005e+00],\n",
    "       [ -1.14558225e+00,  -3.78709636e-02],\n",
    "       [  1.18716105e+00,   6.00240663e-01],\n",
    "       [ -2.23211946e+00,   2.30475094e-01],\n",
    "       [ -1.28320430e+00,  -3.93314568e-01],\n",
    "       [  4.94296696e-01,  -8.83972009e-01],\n",
    "       [  6.31834930e-02,  -9.11952228e-01],\n",
    "       [  9.35759539e-01,   8.66820685e-01],\n",
    "       [  1.58014721e+00,   1.03788392e+00],\n",
    "       [  1.06304960e+00,   1.02706082e+00],\n",
    "       [ -1.39732536e+00,  -5.05162249e-01],\n",
    "       [ -1.09935240e-01,  -9.08113619e-01],\n",
    "       [  1.17346758e+00,   9.47501092e-01],\n",
    "       [  9.20084511e-01,   1.45767672e+00],\n",
    "       [  5.82658956e-01,  -9.00086832e-01],\n",
    "       [  9.52772328e-01,   8.99042386e-01],\n",
    "       [ -1.37266956e+00,  -3.17878215e-02],\n",
    "       [  2.12706760e-02,  -7.07614194e-01],\n",
    "       [  3.27049052e-01,  -5.55998107e-01],\n",
    "       [ -1.71590267e+00,   2.15222266e-01],\n",
    "       [  5.12516209e-01,  -7.60128245e-01],\n",
    "       [  1.13023469e+00,   7.22451122e-01],\n",
    "       [ -1.43074310e+00,  -3.42787511e-01],\n",
    "       [ -1.82724625e+00,   1.17657775e-01],\n",
    "       [  1.41801350e+00,   1.11455080e+00],\n",
    "       [  1.26897304e+00,   1.41925971e+00],\n",
    "       [  8.04076494e-01,   1.63988557e+00],\n",
    "       [  8.34567752e-01,   1.09956689e+00],\n",
    "       [ -1.24714732e+00,  -2.23522320e-01],\n",
    "       [ -1.29422537e+00,   8.18770024e-02],\n",
    "       [ -2.27378316e-01,  -4.13331387e-01],\n",
    "       [  2.18830387e-01,  -4.68183120e-01],\n",
    "       [ -1.22593414e+00,   2.55599147e-01],\n",
    "       [ -1.31294033e+00,  -4.28892070e-01],\n",
    "       [ -1.33532382e+00,   6.52053776e-01],\n",
    "       [ -3.01100233e-01,  -1.25156451e+00],\n",
    "       [  2.02778356e-01,  -9.05277445e-01],\n",
    "       [  1.01357784e+00,   1.12378981e+00],\n",
    "       [  8.18324394e-01,   8.60841257e-01],\n",
    "       [  1.26181556e+00,   1.46613744e+00],\n",
    "       [  4.64867724e-01,  -7.97212459e-01],\n",
    "       [  3.60908898e-01,   8.44106720e-01],\n",
    "       [ -2.15098310e+00,  -3.69583937e-01],\n",
    "       [  1.05005281e+00,   8.74181364e-01],\n",
    "       [  1.06580074e-01,  -7.49268153e-01],\n",
    "       [ -1.73945723e+00,   2.52183577e-01],\n",
    "       [ -1.12017687e-01,  -6.52469788e-01],\n",
    "       [  5.16618951e-01,  -6.41267582e-01],\n",
    "       [  3.26621787e-01,  -8.80608015e-01],\n",
    "       [  1.09017759e+00,   1.10952558e+00],\n",
    "       [  3.64459576e-01,  -6.94215622e-01],\n",
    "       [ -1.90779318e+00,   1.87383674e-01],\n",
    "       [ -1.95601829e+00,   1.39959126e-01],\n",
    "       [  3.18541701e-01,  -4.05271704e-01],\n",
    "       [  7.36512699e-01,   1.76416255e+00],\n",
    "       [ -1.44175162e+00,  -5.72320429e-02],\n",
    "       [  3.21757168e-01,  -5.34283821e-01],\n",
    "       [ -1.37317305e+00,   4.64484644e-02],\n",
    "       [  6.87225910e-02,  -1.10522944e+00],\n",
    "       [  9.59314218e-01,   6.52316210e-01],\n",
    "       [ -1.62641919e+00,  -5.62423280e-01],\n",
    "       [  1.06788305e+00,   7.29260482e-01],\n",
    "       [ -1.79643547e+00,  -9.88307418e-01],\n",
    "       [ -9.88628377e-02,  -6.81198092e-02],\n",
    "       [ -1.05135700e-01,   1.17022143e+00],\n",
    "       [  8.79964699e-01,   1.25340317e+00],\n",
    "       [  9.80753407e-01,   1.15486539e+00],\n",
    "       [ -8.33224966e-02,  -9.24844368e-01],\n",
    "       [  8.48759673e-01,   1.09397425e+00],\n",
    "       [  1.32941649e+00,   1.13734563e+00],\n",
    "       [  3.23788068e-01,  -7.49732451e-01],\n",
    "       [ -1.52610970e+00,  -2.49016929e-01],\n",
    "       [ -1.48598116e+00,  -2.68828608e-01],\n",
    "       [ -1.80479553e+00,   1.87052700e-01],\n",
    "       [ -2.01907347e+00,  -4.49511651e-01],\n",
    "       [  2.87202402e-01,  -6.55487415e-01],\n",
    "       [  8.22295102e-01,   1.38443234e+00],\n",
    "       [ -3.56997036e-02,  -8.01825807e-01],\n",
    "       [ -1.66955440e+00,  -1.38258505e-01],\n",
    "       [ -1.78226821e+00,   2.93353033e-01],\n",
    "       [  7.25837138e-01,  -6.23374024e-01],\n",
    "       [  3.88432593e-01,  -7.61283497e-01],\n",
    "       [  1.49002783e+00,   7.95678671e-01],\n",
    "       [  6.55423228e-04,  -7.40580702e-01],\n",
    "       [ -1.34533116e+00,  -4.75629937e-01],\n",
    "       [ -8.03845106e-01,  -3.09943013e-01],\n",
    "       [ -2.49041295e-01,  -1.00662418e+00],\n",
    "       [ -1.41095118e+00,  -7.06744127e-02],\n",
    "       [ -1.75119594e+00,  -3.00491336e-01],\n",
    "       [ -1.27942724e+00,   1.73774600e-01],\n",
    "       [  3.35028183e-01,   6.24761151e-01],\n",
    "       [  1.16819649e+00,   1.18902251e+00],\n",
    "       [  7.15210457e-01,   9.26077419e-01],\n",
    "       [  1.30057278e+00,   9.16349565e-01],\n",
    "       [ -1.21697008e+00,   1.10039477e-01],\n",
    "       [ -1.70707935e+00,  -5.99659536e-02],\n",
    "       [  1.20730655e+00,   1.05480463e+00],\n",
    "       [  1.86896009e-01,  -9.58047234e-01],\n",
    "       [  8.03463471e-01,   3.86133140e-01],\n",
    "       [ -1.73486790e+00,  -1.49831913e-01],\n",
    "       [  1.31261499e+00,   1.11802982e+00],\n",
    "       [  4.04993148e-01,  -5.10900347e-01],\n",
    "       [ -1.93267968e+00,   2.20764694e-01],\n",
    "       [  6.56004799e-01,   9.61887161e-01],\n",
    "       [ -1.40588215e+00,   1.17134403e-01],\n",
    "       [ -1.74306264e+00,  -7.47473959e-02],\n",
    "       [  5.43745412e-01,   1.47209224e+00],\n",
    "       [ -1.97331669e+00,  -2.27124493e-01],\n",
    "       [  1.53901171e+00,   1.36049081e+00],\n",
    "       [ -1.48323452e+00,  -4.90302063e-01],\n",
    "       [  3.86748484e-01,  -1.26173400e+00],\n",
    "       [  1.17015716e+00,   1.18549415e+00],\n",
    "       [ -8.05381721e-02,  -3.21923627e-01],\n",
    "       [ -6.82273156e-02,  -8.52825887e-01],\n",
    "       [  7.13500028e-01,   1.27868520e+00],\n",
    "       [ -1.85014378e+00,  -5.03490558e-01],\n",
    "       [  6.36085266e-02,  -1.41257040e+00],\n",
    "       [  1.52966062e+00,   9.66056572e-01],\n",
    "       [  1.62165714e-01,  -1.37374843e+00],\n",
    "       [ -3.23474497e-01,  -7.06620269e-01],\n",
    "       [ -1.51768993e+00,   1.87658302e-01],\n",
    "       [  8.88895911e-01,   7.62237161e-01],\n",
    "       [  4.83164032e-01,   8.81931869e-01],\n",
    "       [ -5.52997766e-02,  -7.11305016e-01],\n",
    "       [ -1.57966441e+00,  -6.29220313e-01],\n",
    "       [  5.51308645e-02,  -8.47206763e-01],\n",
    "       [ -2.06001582e+00,   5.87697787e-02],\n",
    "       [  1.11810855e+00,   1.30254175e+00],\n",
    "       [  4.87016164e-01,  -9.90143937e-01],\n",
    "       [ -1.65518042e+00,  -1.69386383e-01],\n",
    "       [ -1.44349738e+00,   1.90299243e-01],\n",
    "       [ -1.70074547e-01,  -8.26736022e-01],\n",
    "       [ -1.82433979e+00,  -3.07814626e-01],\n",
    "       [  1.03093485e+00,   1.26457691e+00],\n",
    "       [  1.64431169e+00,   1.27773115e+00],\n",
    "       [ -1.47617693e+00,   2.60783872e-02],\n",
    "       [  1.00953067e+00,   1.14270181e+00],\n",
    "       [ -1.45285636e+00,  -2.55216207e-01],\n",
    "       [ -1.74092917e+00,  -8.34443177e-02],\n",
    "       [  1.22038299e+00,   1.28699961e+00],\n",
    "       [  9.16925397e-01,   7.32070275e-01],\n",
    "       [ -1.60754185e-03,  -7.26375571e-01],\n",
    "       [  8.93841238e-01,   8.41146643e-01],\n",
    "       [  6.33791961e-01,   1.00915134e+00],\n",
    "       [ -1.47927075e+00,  -6.99781936e-01],\n",
    "       [  5.44799374e-02,  -1.06441970e+00],\n",
    "       [ -1.51935568e+00,  -4.89276929e-01],\n",
    "       [  2.89939026e-01,  -7.73145523e-01],\n",
    "       [ -9.68154061e-03,  -1.13302207e+00],\n",
    "       [  1.13474639e+00,   9.71541744e-01],\n",
    "       [  5.36421406e-01,  -8.47906388e-01],\n",
    "       [  1.14759864e+00,   6.89915205e-01],\n",
    "       [  5.73291902e-01,   7.90802710e-01],\n",
    "       [  2.12377397e-01,  -6.07569808e-01],\n",
    "       [  5.26579548e-01,  -8.15930264e-01],\n",
    "       [ -2.01831641e+00,   6.78650740e-02],\n",
    "       [ -2.35512624e-01,  -1.08205132e+00],\n",
    "       [  1.59274780e-01,  -6.00717261e-01],\n",
    "       [  2.28120356e-01,  -1.16003549e+00],\n",
    "       [ -1.53658378e+00,   8.40798808e-02],\n",
    "       [  1.13954609e+00,   6.31782001e-01],\n",
    "       [  1.01119255e+00,   1.04360805e+00],\n",
    "       [ -1.42039867e-01,  -4.81230337e-01],\n",
    "       [ -2.23120182e+00,   8.49162905e-02],\n",
    "       [  1.25554811e-01,  -1.01794793e+00],\n",
    "       [ -1.72493509e+00,  -6.94426177e-01],\n",
    "       [ -1.60434630e+00,   4.45550868e-01],\n",
    "       [  7.37153979e-01,   9.26560744e-01],\n",
    "       [  6.72905271e-01,   1.13366030e+00],\n",
    "       [  1.20066456e+00,   7.26273093e-01],\n",
    "       [  7.58747209e-02,  -9.83378326e-01],\n",
    "       [  1.28783262e+00,   1.18088601e+00],\n",
    "       [  1.06521930e+00,   1.00714746e+00],\n",
    "       [  1.05871698e+00,   1.12956519e+00],\n",
    "       [ -1.12643410e+00,   1.66787744e-01],\n",
    "       [ -1.10157218e+00,  -3.64137806e-01],\n",
    "       [  2.35118217e-01,  -1.39769949e-01],\n",
    "       [  1.13853795e+00,   1.01018519e+00],\n",
    "       [  5.31205654e-01,  -8.81990792e-01],\n",
    "       [  4.33085936e-01,  -7.64059042e-01],\n",
    "       [ -4.48926156e-03,  -1.30548411e+00],\n",
    "       [ -1.76348589e+00,  -4.97430739e-01],\n",
    "       [  1.36485681e+00,   5.83404699e-01],\n",
    "       [  5.66923900e-01,   1.51391963e+00],\n",
    "       [  1.35736826e+00,   6.70915318e-01],\n",
    "       [  1.07173397e+00,   6.11990884e-01],\n",
    "       [  1.00106915e+00,   8.93815326e-01],\n",
    "       [  1.33091007e+00,   8.79773879e-01],\n",
    "       [ -1.79603740e+00,  -3.53883973e-02],\n",
    "       [ -1.27222979e+00,   4.00156642e-01],\n",
    "       [  8.47480603e-01,   1.17032364e+00],\n",
    "       [ -1.50989129e+00,  -7.12318330e-01],\n",
    "       [ -1.24953576e+00,  -5.57859730e-01],\n",
    "       [ -1.27717973e+00,  -5.99350550e-01],\n",
    "       [ -1.81946743e+00,   7.37057673e-01],\n",
    "       [  1.19949867e+00,   1.56969386e+00],\n",
    "       [ -1.25543847e+00,  -2.33892826e-01],\n",
    "       [ -1.63052058e+00,   1.61455865e-01],\n",
    "       [  1.10611305e+00,   7.39698224e-01],\n",
    "       [  6.70193192e-01,   8.70567001e-01],\n",
    "       [  3.69670156e-01,  -6.94645306e-01],\n",
    "       [ -1.26362293e+00,  -6.99249285e-01],\n",
    "       [ -3.66687507e-01,  -1.35310260e+00],\n",
    "       [  2.44032147e-01,  -6.59470793e-01],\n",
    "       [ -1.27679142e+00,  -4.85453412e-01],\n",
    "       [  3.77473612e-02,  -6.99251605e-01],\n",
    "       [ -2.19148539e+00,  -4.91199500e-01],\n",
    "       [ -2.93277777e-01,  -5.89488212e-01],\n",
    "       [ -1.65737397e+00,  -2.98337786e-01],\n",
    "       [  7.36638861e-01,   5.78037057e-01],\n",
    "       [  1.13709081e+00,   1.30119754e+00],\n",
    "       [ -1.44146601e+00,   3.13934680e-02],\n",
    "       [  5.92360708e-01,   1.22545114e+00],\n",
    "       [  6.51719414e-01,   4.92674894e-01],\n",
    "       [  5.94559139e-01,   8.25637315e-01],\n",
    "       [ -1.87900722e+00,  -5.21899626e-01],\n",
    "       [  2.15225041e-01,  -1.28269851e+00],\n",
    "       [  4.99145965e-01,  -6.70268634e-01],\n",
    "       [ -1.82954176e+00,  -3.39269731e-01],\n",
    "       [  7.92721403e-01,   1.33785606e+00],\n",
    "       [  9.54363372e-01,   9.80396626e-01],\n",
    "       [ -1.35359846e+00,   1.03976340e-01],\n",
    "       [  1.05595062e+00,   8.07031927e-01],\n",
    "       [ -1.94311010e+00,  -1.18976964e-01],\n",
    "       [ -1.39604137e+00,  -3.10095976e-01],\n",
    "       [  1.28977624e+00,   1.01753365e+00],\n",
    "       [ -1.59503139e+00,  -5.40574609e-01],\n",
    "       [ -1.41994046e+00,  -3.81032569e-01],\n",
    "       [ -2.35569801e-02,  -1.10133702e+00],\n",
    "       [ -1.26038568e+00,  -6.93273886e-01],\n",
    "       [  9.60215981e-01,  -8.11553694e-01],\n",
    "       [  5.51803308e-01,  -1.01793176e+00],\n",
    "       [  3.70185085e-01,  -1.06885468e+00],\n",
    "       [  8.25529207e-01,   8.77007060e-01],\n",
    "       [ -1.87032595e+00,   2.87507199e-01],\n",
    "       [ -1.56260769e+00,  -1.89196712e-01],\n",
    "       [ -1.26346548e+00,  -7.74725237e-01],\n",
    "       [ -6.33800421e-02,  -7.59400611e-01],\n",
    "       [  8.85298280e-01,   8.85620519e-01],\n",
    "       [ -1.43324686e-01,  -1.16083678e+00],\n",
    "       [ -1.83908725e+00,  -3.26655515e-01],\n",
    "       [  2.74709229e-01,  -1.04546829e+00],\n",
    "       [ -1.45703573e+00,  -2.91842036e-01],\n",
    "       [ -1.59048842e+00,   1.66063031e-01],\n",
    "       [  9.25549284e-01,   7.41406406e-01],\n",
    "       [  1.97245469e-01,  -7.80703225e-01],\n",
    "       [  2.88401697e-01,  -8.32425551e-01],\n",
    "       [  7.24141618e-01,  -7.99149200e-01],\n",
    "       [ -1.62658639e+00,  -1.80005543e-01],\n",
    "       [  5.84481588e-01,   1.13195640e+00],\n",
    "       [  1.02146732e+00,   4.59657799e-01],\n",
    "       [  8.65050554e-01,   9.57714887e-01],\n",
    "       [  3.98717766e-01,  -1.24273147e+00],\n",
    "       [  8.62234892e-01,   1.10955561e+00],\n",
    "       [ -1.35999430e+00,   2.49942654e-02],\n",
    "       [ -1.19178505e+00,  -3.82946323e-02],\n",
    "       [  1.29392424e+00,   1.10320509e+00],\n",
    "       [  1.25679630e+00,  -7.79857582e-01],\n",
    "       [  9.38040302e-02,  -5.53247258e-01],\n",
    "       [ -1.73512175e+00,  -9.76271667e-02],\n",
    "       [  2.23153587e-01,  -9.43474351e-01],\n",
    "       [  4.01989100e-01,  -1.10963051e+00],\n",
    "       [ -1.42244158e+00,   1.81914703e-01],\n",
    "       [  3.92476267e-01,  -8.78426277e-01],\n",
    "       [  1.25181875e+00,   6.93614996e-01],\n",
    "       [  1.77481317e-02,  -7.20304235e-01],\n",
    "       [ -1.87752521e+00,  -2.63870424e-01],\n",
    "       [ -1.58063602e+00,  -5.50456344e-01],\n",
    "       [ -1.59589493e+00,  -1.53932892e-01],\n",
    "       [ -1.01829770e+00,   3.88542370e-02],\n",
    "       [  1.24819659e+00,   6.60041803e-01],\n",
    "       [ -1.25551377e+00,  -2.96172009e-02],\n",
    "       [ -1.41864559e+00,  -3.58230179e-01],\n",
    "       [  5.25758326e-01,   8.70500543e-01],\n",
    "       [  5.55599988e-01,   1.18765072e+00],\n",
    "       [  2.81344439e-02,  -6.99111314e-01]])"
   ]
  },
  {
   "cell_type": "code",
   "execution_count": 250,
   "metadata": {},
   "outputs": [
    {
     "name": "stdout",
     "output_type": "stream",
     "text": [
      "[2 1 0 2 1 2 1 1 1 0 2 1 1 0 0 1 0 0 1 1 0 1 2 1 2 0 1 0 0 2 2 1 1 1 0 2 1\n",
      " 1 2 1 0 2 2 0 2 1 0 0 1 1 1 1 0 0 2 2 0 0 0 2 2 1 1 1 2 1 0 1 2 0 2 2 2 1\n",
      " 2 0 0 2 1 0 2 0 2 1 0 1 0 2 1 1 1 2 1 1 2 0 0 0 0 2 1 2 0 0 2 2 1 2 0 0 2\n",
      " 0 0 0 1 1 1 1 0 0 1 2 1 0 1 2 0 1 0 0 1 0 1 0 2 1 2 2 1 0 2 1 2 2 0 1 1 2\n",
      " 0 2 0 1 2 0 0 2 0 1 1 0 1 0 0 1 1 2 1 1 0 2 0 2 2 1 2 1 1 2 2 0 2 2 2 0 1\n",
      " 1 2 0 2 0 0 1 1 1 2 1 1 1 0 0 2 1 2 2 2 0 1 1 1 1 1 1 0 0 1 0 0 0 0 1 0 0\n",
      " 1 1 2 0 2 2 0 2 0 2 0 1 1 0 1 1 1 0 2 2 0 1 1 0 1 0 0 1 0 0 2 0 2 2 2 1 0\n",
      " 0 0 2 1 2 0 2 0 0 1 2 2 2 0 1 1 1 2 1 0 0 1 2 2 0 2 2 0 2 1 2 0 0 0 0 1 0\n",
      " 0 1 1 2]\n"
     ]
    }
   ],
   "source": [
    "# Import KMeans\n",
    "from sklearn.cluster import KMeans\n",
    "\n",
    "# Create a KMeans instance with 3 clusters: model\n",
    "model = KMeans(n_clusters=3)\n",
    "\n",
    "# Fit model to points\n",
    "model.fit(points)\n",
    "\n",
    "# Determine the cluster labels of new_points: labels\n",
    "labels = model.predict(new_points)\n",
    "\n",
    "# Print cluster labels of new_points\n",
    "print(labels)"
   ]
  },
  {
   "cell_type": "code",
   "execution_count": 251,
   "metadata": {},
   "outputs": [
    {
     "data": {
      "image/png": "[encoded data removed]",
      "text/plain": [
       "<Figure size 432x288 with 1 Axes>"
      ]
     },
     "metadata": {},
     "output_type": "display_data"
    }
   ],
   "source": [
    "# Inspect your clustering\n",
    "\n",
    "# Import pyplot\n",
    "import matplotlib.pyplot as plt\n",
    "\n",
    "# Assign the columns of new_points: xs and ys\n",
    "xs = new_points[:,0]\n",
    "ys = new_points[:,1]\n",
    "\n",
    "# Make a scatter plot of xs and ys, using labels to define the colors\n",
    "plt.scatter(xs,ys,c=labels,alpha=0.5)\n",
    "\n",
    "# Assign the cluster centers: centroids\n",
    "centroids = model.cluster_centers_\n",
    "\n",
    "# Assign the columns of centroids: centroids_x, centroids_y\n",
    "centroids_x = centroids[:,0]\n",
    "centroids_y = centroids[:,1]\n",
    "\n",
    "# Make a scatter plot of centroids_x and centroids_y\n",
    "plt.scatter(centroids_x,centroids_y,marker='D',s=50)\n",
    "plt.show()"
   ]
  },
  {
   "cell_type": "markdown",
   "metadata": {},
   "source": [
    "##### **Evaluating a clustering**"
   ]
  },
  {
   "cell_type": "markdown",
   "metadata": {},
   "source": [
    "##### Cross tabulation with pandas"
   ]
  },
  {
   "cell_type": "code",
   "execution_count": 252,
   "metadata": {},
   "outputs": [],
   "source": [
    "samples = load_iris()['data']\n",
    "species = pd.Series(load_iris()['target']).map({0:'setosa',1:'versicolor',2:'virginica'})"
   ]
  },
  {
   "cell_type": "code",
   "execution_count": 253,
   "metadata": {},
   "outputs": [],
   "source": [
    "from sklearn.cluster import KMeans\n",
    "\n",
    "# Create a KMeans instance with 3 clusters: model\n",
    "model = KMeans(n_clusters=3)\n",
    "\n",
    "# Fit and determine the cluster labels of new_points: labels\n",
    "labels = model.fit_predict(samples)"
   ]
  },
  {
   "cell_type": "code",
   "execution_count": 254,
   "metadata": {},
   "outputs": [
    {
     "name": "stdout",
     "output_type": "stream",
     "text": [
      "    labels     species\n",
      "45       1      setosa\n",
      "46       1      setosa\n",
      "47       1      setosa\n",
      "48       1      setosa\n",
      "49       1      setosa\n",
      "50       0  versicolor\n",
      "51       0  versicolor\n",
      "52       2  versicolor\n",
      "53       0  versicolor\n",
      "54       0  versicolor\n"
     ]
    }
   ],
   "source": [
    "df = pd.DataFrame({'labels': labels, 'species': species})\n",
    "print(df[45:55])"
   ]
  },
  {
   "cell_type": "code",
   "execution_count": 255,
   "metadata": {},
   "outputs": [
    {
     "name": "stdout",
     "output_type": "stream",
     "text": [
      "species  setosa  versicolor  virginica\n",
      "labels                                \n",
      "0             0          48         14\n",
      "1            50           0          0\n",
      "2             0           2         36\n"
     ]
    }
   ],
   "source": [
    "# Crosstab of labels and species\n",
    "\n",
    "ct = pd.crosstab(df['labels'], df['species'])\n",
    "print(ct)"
   ]
  },
  {
   "cell_type": "code",
   "execution_count": 256,
   "metadata": {},
   "outputs": [
    {
     "name": "stdout",
     "output_type": "stream",
     "text": [
      "78.85144142614601\n"
     ]
    }
   ],
   "source": [
    "# Inertia measures clustering quality\n",
    "\n",
    "from sklearn.cluster import KMeans\n",
    "model = KMeans(n_clusters=3)\n",
    "model.fit(samples)\n",
    "print(model.inertia_)"
   ]
  },
  {
   "cell_type": "code",
   "execution_count": 257,
   "metadata": {},
   "outputs": [
    {
     "data": {
      "image/png": "[encoded data removed]",
      "text/plain": [
       "<Figure size 432x288 with 1 Axes>"
      ]
     },
     "metadata": {},
     "output_type": "display_data"
    }
   ],
   "source": [
    "# The number of clusters\n",
    "\n",
    "ks = range(1, 6)\n",
    "inertias = []\n",
    "\n",
    "for k in ks:\n",
    "    # Create a KMeans instance with k clusters: model\n",
    "    model = KMeans(n_clusters=k)\n",
    "    \n",
    "    # Fit model to samples\n",
    "    model.fit(samples)\n",
    "    \n",
    "    # Append the inertia to the list of inertias\n",
    "    inertias.append(model.inertia_)\n",
    "    \n",
    "# Plot ks vs inertias\n",
    "plt.plot(ks, inertias, '-o')\n",
    "plt.xlabel('number of clusters, k')\n",
    "plt.ylabel('inertia')\n",
    "plt.xticks(ks)\n",
    "plt.show()"
   ]
  },
  {
   "cell_type": "code",
   "execution_count": 258,
   "metadata": {},
   "outputs": [],
   "source": [
    "# EXERCISES"
   ]
  },
  {
   "cell_type": "code",
   "execution_count": 259,
   "metadata": {},
   "outputs": [],
   "source": [
    "# Grain/Seed Dataset\n",
    "data = pd.read_csv(\"datasets/seeds_dataset.csv\",header=None)\n",
    "samples = data.iloc[:,:-1].values\n",
    "varieties = list(data.iloc[:,-1].map({1:'Kama wheat',2:'Rosa wheat',3:'Canadian wheat'}))"
   ]
  },
  {
   "cell_type": "code",
   "execution_count": 260,
   "metadata": {},
   "outputs": [
    {
     "data": {
      "image/png": "[encoded data removed]",
      "text/plain": [
       "<Figure size 432x288 with 1 Axes>"
      ]
     },
     "metadata": {},
     "output_type": "display_data"
    }
   ],
   "source": [
    "# How many clusters of grain?\n",
    "\n",
    "ks = range(1, 6)\n",
    "inertias = []\n",
    "\n",
    "for k in ks:\n",
    "    # Create a KMeans instance with k clusters: model\n",
    "    model = KMeans(n_clusters=k)\n",
    "    \n",
    "    # Fit model to samples\n",
    "    model.fit(samples)\n",
    "    \n",
    "    # Append the inertia to the list of inertias\n",
    "    inertias.append(model.inertia_)\n",
    "    \n",
    "# Plot ks vs inertias\n",
    "plt.plot(ks, inertias, '-o')\n",
    "plt.xlabel('number of clusters, k')\n",
    "plt.ylabel('inertia')\n",
    "plt.xticks(ks)\n",
    "plt.show()"
   ]
  },
  {
   "cell_type": "markdown",
   "metadata": {},
   "source": [
    "Based on sharp decline, the best number of clusters are 3."
   ]
  },
  {
   "cell_type": "code",
   "execution_count": 261,
   "metadata": {},
   "outputs": [
    {
     "name": "stdout",
     "output_type": "stream",
     "text": [
      "varieties  Canadian wheat  Kama wheat  Rosa wheat\n",
      "labels                                           \n",
      "0                       2          60          10\n",
      "1                       0           1          60\n",
      "2                      68           9           0\n"
     ]
    }
   ],
   "source": [
    "# Create a KMeans model with 3 clusters: model\n",
    "model = KMeans(n_clusters=3)\n",
    "\n",
    "# Use fit_predict to fit model and obtain cluster labels: labels\n",
    "labels = model.fit_predict(samples)\n",
    "\n",
    "# Create a DataFrame with labels and varieties as columns: df\n",
    "df = pd.DataFrame({'labels': labels, 'varieties': varieties})\n",
    "\n",
    "# Create crosstab: ct\n",
    "ct = pd.crosstab(df['labels'],df['varieties'])\n",
    "\n",
    "# Display ct\n",
    "print(ct)"
   ]
  },
  {
   "cell_type": "markdown",
   "metadata": {},
   "source": [
    "##### Transforming features for better clusterings"
   ]
  },
  {
   "cell_type": "code",
   "execution_count": 262,
   "metadata": {},
   "outputs": [],
   "source": [
    "# Piedmont wines dataset\n",
    "\n",
    "samples = pd.read_csv(\"datasets/piedmont_wine_data.csv\",header=0).iloc[:,2:].values\n",
    "varieties = pd.read_csv(\"datasets/piedmont_wine_data.csv\",header=0).iloc[:,1]"
   ]
  },
  {
   "cell_type": "code",
   "execution_count": 263,
   "metadata": {},
   "outputs": [],
   "source": [
    "# Clustering the wines\n",
    "\n",
    "from sklearn.cluster import KMeans\n",
    "model = KMeans(n_clusters=3)\n",
    "labels = model.fit_predict(samples)"
   ]
  },
  {
   "cell_type": "code",
   "execution_count": 264,
   "metadata": {},
   "outputs": [
    {
     "name": "stdout",
     "output_type": "stream",
     "text": [
      "varieties  Barbera  Barolo  Grignolino\n",
      "labels                                \n",
      "0               19       0          50\n",
      "1                0      46           1\n",
      "2               29      13          20\n"
     ]
    }
   ],
   "source": [
    "# Clusters vs. varieties\n",
    "\n",
    "df = pd.DataFrame({'labels': labels,'varieties': varieties})\n",
    "ct = pd.crosstab(df['labels'], df['varieties'])\n",
    "print(ct)"
   ]
  },
  {
   "cell_type": "code",
   "execution_count": 265,
   "metadata": {},
   "outputs": [
    {
     "data": {
      "text/plain": [
       "alcohol                     0.659062\n",
       "malic_acid                  1.248015\n",
       "ash                         0.075265\n",
       "alcalinity_of_ash          11.152686\n",
       "magnesium                 203.989335\n",
       "total_phenols               0.391690\n",
       "flavanoids                  0.997719\n",
       "nonflavanoid_phenols        0.015489\n",
       "proanthocyanins             0.327595\n",
       "color_intensity             5.374449\n",
       "hue                         0.052245\n",
       "od280                       0.504086\n",
       "proline                 99166.717355\n",
       "dtype: float64"
      ]
     },
     "execution_count": 265,
     "metadata": {},
     "output_type": "execute_result"
    }
   ],
   "source": [
    "# Feature variances\n",
    "\n",
    "s=pd.read_csv(\"datasets/piedmont_wine_data.csv\",header=0).iloc[:,1:]\n",
    "s.var()"
   ]
  },
  {
   "cell_type": "code",
   "execution_count": 266,
   "metadata": {},
   "outputs": [
    {
     "data": {
      "text/plain": [
       "Pipeline(steps=[('standardscaler', StandardScaler()),\n",
       "                ('kmeans', KMeans(n_clusters=3))])"
      ]
     },
     "execution_count": 266,
     "metadata": {},
     "output_type": "execute_result"
    }
   ],
   "source": [
    "# Pipelines sklearn StandardScaler\n",
    "\n",
    "from sklearn.preprocessing import StandardScaler\n",
    "from sklearn.cluster import KMeans\n",
    "scaler = StandardScaler()\n",
    "kmeans = KMeans(n_clusters=3)\n",
    "from sklearn.pipeline import make_pipeline\n",
    "pipeline = make_pipeline(scaler, kmeans)\n",
    "pipeline.fit(samples)"
   ]
  },
  {
   "cell_type": "code",
   "execution_count": 267,
   "metadata": {},
   "outputs": [
    {
     "name": "stdout",
     "output_type": "stream",
     "text": [
      "varieties  Barbera  Barolo  Grignolino\n",
      "labels                                \n",
      "0                0       0          65\n",
      "1                0      59           3\n",
      "2               48       0           3\n"
     ]
    }
   ],
   "source": [
    "labels = pipeline.predict(samples)\n",
    "df = pd.DataFrame({'labels': labels, 'varieties': varieties})\n",
    "ct = pd.crosstab(df['labels'], df['varieties'])\n",
    "print(ct)"
   ]
  },
  {
   "cell_type": "code",
   "execution_count": 268,
   "metadata": {},
   "outputs": [],
   "source": [
    "# EXERCISES"
   ]
  },
  {
   "cell_type": "code",
   "execution_count": 269,
   "metadata": {},
   "outputs": [],
   "source": [
    "# Fish Data\n",
    "data = pd.read_csv(\"datasets/fish_catch.csv\",header=None).dropna()\n",
    "species = list(data[0].map({1:'Bream',2:'Whitewish',3:'Roach',4:'?',5:'Smelt',6:'Pike',7:'Perch'}))\n",
    "samples = data.iloc[:,0:].values"
   ]
  },
  {
   "cell_type": "code",
   "execution_count": 270,
   "metadata": {},
   "outputs": [
    {
     "name": "stdout",
     "output_type": "stream",
     "text": [
      "species  Bream  Pike  Roach  Smelt\n",
      "labels                            \n",
      "0           16     2      0      0\n",
      "1            1     1     17     14\n",
      "2           17    10      3      0\n",
      "3            0     4      0      0\n"
     ]
    }
   ],
   "source": [
    "# Clustering without scaling\n",
    "\n",
    "# Create a KMeans model with 4 clusters: model\n",
    "model = KMeans(n_clusters=4)\n",
    "\n",
    "# Use fit_predict to fit model and obtain cluster labels: labels\n",
    "labels = model.fit_predict(samples)\n",
    "\n",
    "# Create a DataFrame with labels and varieties as columns: df\n",
    "df = pd.DataFrame({'labels': labels, 'species': species})\n",
    "\n",
    "# Create crosstab: ct\n",
    "ct = pd.crosstab(df['labels'],df['species'])\n",
    "\n",
    "# Display ct\n",
    "print(ct)"
   ]
  },
  {
   "cell_type": "code",
   "execution_count": 271,
   "metadata": {},
   "outputs": [],
   "source": [
    "# Scaling fish data for clustering\n",
    "\n",
    "# Perform the necessary imports\n",
    "from sklearn.pipeline import make_pipeline\n",
    "from sklearn.preprocessing import StandardScaler\n",
    "from sklearn.cluster import KMeans\n",
    "\n",
    "# Create scaler: scaler\n",
    "scaler = StandardScaler()\n",
    "\n",
    "# Create KMeans instance: kmeans\n",
    "kmeans = KMeans(n_clusters=4)\n",
    "\n",
    "# Create pipeline: pipeline\n",
    "pipeline = make_pipeline(scaler,kmeans)"
   ]
  },
  {
   "cell_type": "code",
   "execution_count": 272,
   "metadata": {},
   "outputs": [
    {
     "name": "stdout",
     "output_type": "stream",
     "text": [
      "species  Bream  Pike  Roach  Smelt\n",
      "labels                            \n",
      "0            0     0     20      0\n",
      "1            0    17      0      0\n",
      "2           34     0      0      0\n",
      "3            0     0      0     14\n"
     ]
    }
   ],
   "source": [
    "# Clustering the fish data\n",
    "\n",
    "# Import pandas\n",
    "import pandas as pd\n",
    "\n",
    "# Fit the pipeline to samples\n",
    "pipeline.fit(samples)\n",
    "\n",
    "# Calculate the cluster labels: labels\n",
    "labels = pipeline.predict(samples)\n",
    "\n",
    "# Create a DataFrame with labels and species as columns: df\n",
    "df = pd.DataFrame({'labels':labels,'species':species})\n",
    "\n",
    "# Create crosstab: ct\n",
    "ct = pd.crosstab(df['labels'],df['species'])\n",
    "\n",
    "# Display ct\n",
    "print(ct)"
   ]
  },
  {
   "cell_type": "code",
   "execution_count": 273,
   "metadata": {},
   "outputs": [],
   "source": [
    "# Stocks data\n",
    "\n",
    "data = pd.read_csv(\"datasets/company-stock-movements-2010-2015-incl.csv\")\n",
    "companies = list(data.iloc[:,0])\n",
    "movements = data.iloc[:,1:].values"
   ]
  },
  {
   "cell_type": "code",
   "execution_count": 274,
   "metadata": {},
   "outputs": [
    {
     "data": {
      "text/plain": [
       "Pipeline(steps=[('normalizer', Normalizer()),\n",
       "                ('kmeans', KMeans(n_clusters=10))])"
      ]
     },
     "execution_count": 274,
     "metadata": {},
     "output_type": "execute_result"
    }
   ],
   "source": [
    "# Clustering stocks using KMeans\n",
    "\n",
    "# Import Normalizer\n",
    "from sklearn.preprocessing import Normalizer\n",
    "\n",
    "# Create a normalizer: normalizer\n",
    "normalizer = Normalizer()\n",
    "\n",
    "# Create a KMeans model with 10 clusters: kmeans\n",
    "kmeans = KMeans(n_clusters=10)\n",
    "\n",
    "# Make a pipeline chaining normalizer and kmeans: pipeline\n",
    "pipeline = make_pipeline(normalizer,kmeans)\n",
    "\n",
    "# Fit pipeline to the daily price movements\n",
    "pipeline.fit(movements)\n"
   ]
  },
  {
   "cell_type": "code",
   "execution_count": 275,
   "metadata": {},
   "outputs": [
    {
     "name": "stdout",
     "output_type": "stream",
     "text": [
      "    labels          companies\n",
      "59       0              Yahoo\n",
      "2        0             Amazon\n",
      "17       0    Google/Alphabet\n",
      "35       1           Navistar\n",
      "32       1                 3M\n",
      "13       1  DuPont de Nemours\n",
      "8        1        Caterpillar\n",
      "0        1              Apple\n",
      "28       2          Coca Cola\n",
      "38       2              Pepsi\n",
      "27       2     Kimberly-Clark\n",
      "41       2      Philip Morris\n",
      "25       2  Johnson & Johnson\n",
      "40       2     Procter Gamble\n",
      "56       2           Wal-Mart\n"
     ]
    }
   ],
   "source": [
    "# Which stocks move together?\n",
    "\n",
    "# Import pandas\n",
    "import pandas as pd\n",
    "\n",
    "# Predict the cluster labels: labels\n",
    "labels = pipeline.predict(movements)\n",
    "\n",
    "# Create a DataFrame aligning labels and companies: df\n",
    "df = pd.DataFrame({'labels': labels, 'companies': companies})\n",
    "\n",
    "# Display df sorted by cluster label\n",
    "print(df.sort_values(by='labels')[:15])\n"
   ]
  },
  {
   "cell_type": "markdown",
   "metadata": {},
   "source": [
    "#### **Chap 2: Visualization with hierarchical clustering and t-SNE**"
   ]
  },
  {
   "cell_type": "code",
   "execution_count": 276,
   "metadata": {},
   "outputs": [],
   "source": [
    "# Import plotting modules\n",
    "import matplotlib.pyplot as plt\n",
    "import seaborn as sns\n",
    "import pandas as pd\n",
    "import numpy as np\n",
    "plt.style.use('ggplot')\n",
    "\n",
    "from warnings import warn\n",
    "from sklearn.linear_model import LogisticRegression\n",
    "from sklearn.multiclass import OneVsRestClassifier\n",
    "import warnings\n",
    "warnings.filterwarnings(\"ignore\")"
   ]
  },
  {
   "cell_type": "markdown",
   "metadata": {},
   "source": [
    "In this chapter, we learn two unsupervised learning techniques for data visualization\n",
    "- **hierarchical clustering**\n",
    "    - merges the data samples into ever-coarser clusters, yielding a tree visualization of the resulting cluster hierarchy\n",
    "- **t-SNE**\n",
    "    - maps the data samples into 2d space so that the proximity of the samples to one another can be visualized"
   ]
  },
  {
   "cell_type": "markdown",
   "metadata": {},
   "source": [
    "##### Visualizing hierarchies"
   ]
  },
  {
   "cell_type": "code",
   "execution_count": 277,
   "metadata": {},
   "outputs": [],
   "source": [
    "# Eurovision scoring dataset\n",
    "\n",
    "scores_df = pd.read_csv(\"datasets/eurovision-2016-televoting.csv\",index_col=0)\n",
    "country_names = list(scores_df.index)\n",
    "samples = scores_df.fillna(value=0).values"
   ]
  },
  {
   "cell_type": "code",
   "execution_count": 278,
   "metadata": {},
   "outputs": [
    {
     "data": {
      "image/png": "[encoded data removed]",
      "text/plain": [
       "<Figure size 432x288 with 1 Axes>"
      ]
     },
     "metadata": {},
     "output_type": "display_data"
    }
   ],
   "source": [
    "# Hierarchical clustering with SciPy\n",
    "\n",
    "import matplotlib.pyplot as plt\n",
    "from scipy.cluster.hierarchy import linkage, dendrogram\n",
    "\n",
    "mergings = linkage(samples, method='complete')\n",
    "dendrogram(mergings,labels=country_names,leaf_rotation=90,leaf_font_size=6,\n",
    "          truncate_mode='lastp',p=30)\n",
    "plt.title(\"Countries hierarchically clustered by Eurovision 2016 voting\")\n",
    "plt.show()"
   ]
  },
  {
   "cell_type": "code",
   "execution_count": 279,
   "metadata": {
    "scrolled": true
   },
   "outputs": [],
   "source": [
    "# EXERCISES"
   ]
  },
  {
   "cell_type": "code",
   "execution_count": 280,
   "metadata": {},
   "outputs": [],
   "source": [
    "# Grain/Seed dataset\n",
    "\n",
    "data = pd.read_csv(\"datasets/seeds_dataset.csv\",header=None)[::3]\n",
    "samples = data.iloc[:,:-1].values\n",
    "varieties = list(data.iloc[:,-1].map({1:'Kama wheat',2:'Rosa wheat',3:'Canadian wheat'}))"
   ]
  },
  {
   "cell_type": "code",
   "execution_count": 281,
   "metadata": {},
   "outputs": [
    {
     "data": {
      "image/png": "[encoded data removed]",
      "text/plain": [
       "<Figure size 432x288 with 1 Axes>"
      ]
     },
     "metadata": {},
     "output_type": "display_data"
    }
   ],
   "source": [
    "# Hierarchical clustering of the grain data\n",
    "\n",
    "# Perform the necessary imports\n",
    "from scipy.cluster.hierarchy import linkage, dendrogram\n",
    "import matplotlib.pyplot as plt\n",
    "\n",
    "# Calculate the linkage: mergings\n",
    "mergings = linkage(samples,method='complete')\n",
    "\n",
    "# Plot the dendrogram, using varieties as labels\n",
    "dendrogram(mergings,\n",
    "           labels=varieties,\n",
    "           leaf_rotation=90,\n",
    "           leaf_font_size=6,\n",
    ")\n",
    "plt.show()"
   ]
  },
  {
   "cell_type": "code",
   "execution_count": 282,
   "metadata": {},
   "outputs": [],
   "source": [
    "# Stocks data\n",
    "\n",
    "data = pd.read_csv(\"datasets/company-stock-movements-2010-2015-incl.csv\")\n",
    "companies = list(data.iloc[:,0])\n",
    "movements = data.iloc[:,1:].values"
   ]
  },
  {
   "cell_type": "code",
   "execution_count": 283,
   "metadata": {},
   "outputs": [
    {
     "data": {
      "image/png": "[encoded data removed]",
      "text/plain": [
       "<Figure size 432x288 with 1 Axes>"
      ]
     },
     "metadata": {},
     "output_type": "display_data"
    }
   ],
   "source": [
    "# Hierarchies of stocks\n",
    "\n",
    "# Import normalize\n",
    "from sklearn.preprocessing import normalize\n",
    "\n",
    "# Normalize the movements: normalized_movements\n",
    "normalized_movements = normalize(movements)\n",
    "\n",
    "# Calculate the linkage: mergings\n",
    "mergings = linkage(normalized_movements,method='complete')\n",
    "\n",
    "# Plot the dendrogram\n",
    "dendrogram(mergings,labels=companies,leaf_rotation=90,leaf_font_size=6)\n",
    "plt.show()\n"
   ]
  },
  {
   "cell_type": "markdown",
   "metadata": {},
   "source": [
    "##### Cluster labels in hierarchical clustering"
   ]
  },
  {
   "cell_type": "code",
   "execution_count": 284,
   "metadata": {},
   "outputs": [],
   "source": [
    "# Eurovision scoring dataset\n",
    "\n",
    "scores_df = pd.read_csv(\"datasets/eurovision-2016-televoting.csv\",index_col=0)\n",
    "country_names = list(scores_df.index)\n",
    "samples = scores_df.fillna(value=0).values"
   ]
  },
  {
   "cell_type": "code",
   "execution_count": 285,
   "metadata": {},
   "outputs": [
    {
     "name": "stdout",
     "output_type": "stream",
     "text": [
      "[ 1 20 21 11 18  9 13 16 19 14 12  9  5  2 17  4  7  9  4 19  4  5  6 12\n",
      " 11  3  2  1  9 16  6  2  8  3 18 14 12  6 15  7 10  6]\n"
     ]
    }
   ],
   "source": [
    "# Extracting cluster labels using fcluster\n",
    "\n",
    "from scipy.cluster.hierarchy import linkage\n",
    "mergings = linkage(samples, method='complete')\n",
    "from scipy.cluster.hierarchy import fcluster\n",
    "labels = fcluster(mergings, 15, criterion='distance')\n",
    "print(labels)"
   ]
  },
  {
   "cell_type": "code",
   "execution_count": 286,
   "metadata": {},
   "outputs": [
    {
     "name": "stdout",
     "output_type": "stream",
     "text": [
      "    labels   countries\n",
      "0        1     Albania\n",
      "27       1       Malta\n",
      "31       2      Poland\n",
      "26       2   Lithuania\n",
      "13       2     Estonia\n",
      "33       3  San Marino\n",
      "25       3      Latvia\n",
      "18       4     Germany\n",
      "15       4     Finland\n",
      "20       4     Hungary\n"
     ]
    }
   ],
   "source": [
    "# Aligning cluster labels with country names\n",
    "\n",
    "pairs = pd.DataFrame({'labels': labels,'countries': country_names})\n",
    "print(pairs.sort_values('labels')[:10])"
   ]
  },
  {
   "cell_type": "code",
   "execution_count": 287,
   "metadata": {},
   "outputs": [],
   "source": [
    "# EXERCISES"
   ]
  },
  {
   "cell_type": "code",
   "execution_count": 288,
   "metadata": {},
   "outputs": [
    {
     "data": {
      "image/png": "[encoded data removed]",
      "text/plain": [
       "<Figure size 432x288 with 1 Axes>"
      ]
     },
     "metadata": {},
     "output_type": "display_data"
    }
   ],
   "source": [
    "# Different linkage, different hierarchical clustering!\n",
    "\n",
    "# Perform the necessary imports\n",
    "import matplotlib.pyplot as plt\n",
    "from scipy.cluster.hierarchy import dendrogram, linkage\n",
    "\n",
    "# Calculate the linkage: mergings\n",
    "mergings = linkage(samples,method='single')\n",
    "\n",
    "# Plot the dendrogram\n",
    "dendrogram(mergings,labels=country_names,leaf_rotation=90,leaf_font_size=6)\n",
    "plt.show()"
   ]
  },
  {
   "cell_type": "code",
   "execution_count": 289,
   "metadata": {},
   "outputs": [],
   "source": [
    "# Grain/Seed dataset\n",
    "\n",
    "data = pd.read_csv(\"datasets/seeds_dataset.csv\",header=None)[::3]\n",
    "samples = data.iloc[:,:-1].values\n",
    "varieties = list(data.iloc[:,-1].map({1:'Kama wheat',2:'Rosa wheat',3:'Canadian wheat'}))\n",
    "\n",
    "mergings = linkage(samples,method='complete')"
   ]
  },
  {
   "cell_type": "code",
   "execution_count": 290,
   "metadata": {},
   "outputs": [
    {
     "name": "stdout",
     "output_type": "stream",
     "text": [
      "varieties  Canadian wheat  Kama wheat  Rosa wheat\n",
      "labels                                           \n",
      "1                       0           0          17\n",
      "2                      14           1           0\n",
      "3                       0           6           6\n",
      "4                       9          17           0\n"
     ]
    }
   ],
   "source": [
    "# Extracting the cluster labels\n",
    "\n",
    "# Perform the necessary imports\n",
    "import pandas as pd\n",
    "from scipy.cluster.hierarchy import fcluster\n",
    "\n",
    "# Use fcluster to extract labels: labels\n",
    "labels = fcluster(mergings,6,criterion='distance')\n",
    "\n",
    "# Create a DataFrame with labels and varieties as columns: df\n",
    "df = pd.DataFrame({'labels': labels, 'varieties': varieties})\n",
    "\n",
    "# Create crosstab: ct\n",
    "ct = pd.crosstab(df['labels'],df['varieties'])\n",
    "\n",
    "# Display ct\n",
    "print(ct)"
   ]
  },
  {
   "cell_type": "markdown",
   "metadata": {},
   "source": [
    "##### **t-SNE for 2-dimensional maps**"
   ]
  },
  {
   "cell_type": "markdown",
   "metadata": {},
   "source": [
    "t-SNE = “t-distributed stochastic neighbor embedding”\n",
    "- Maps samples to 2D space (or 3D)\n",
    "- Map approximately preserves nearness of samples\n",
    "- Great for inspecting datasets"
   ]
  },
  {
   "cell_type": "code",
   "execution_count": 291,
   "metadata": {},
   "outputs": [],
   "source": [
    "# Iris dataset\n",
    "\n",
    "from sklearn.datasets import load_iris\n",
    "samples = load_iris()['data']\n",
    "species = pd.Series(load_iris()['target'])#.map({0:'setosa',1:'versicolor',2:'virginica'})"
   ]
  },
  {
   "cell_type": "code",
   "execution_count": 292,
   "metadata": {},
   "outputs": [
    {
     "data": {
      "image/png": "[encoded data removed]",
      "text/plain": [
       "<Figure size 432x288 with 1 Axes>"
      ]
     },
     "metadata": {},
     "output_type": "display_data"
    }
   ],
   "source": [
    "# t-SNE in sklearn\n",
    "\n",
    "import matplotlib.pyplot as plt\n",
    "from sklearn.manifold import TSNE\n",
    "\n",
    "model = TSNE(learning_rate=100)\n",
    "transformed = model.fit_transform(samples)\n",
    "xs = transformed[:,0]\n",
    "ys = transformed[:,1]\n",
    "plt.scatter(xs, ys, c=species, s=10)\n",
    "plt.show()"
   ]
  },
  {
   "cell_type": "markdown",
   "metadata": {},
   "source": [
    "- Choose learning rate for the dataset\n",
    "- Wrong choice: points bunch together\n",
    "- Try values between 50 and 200"
   ]
  },
  {
   "cell_type": "code",
   "execution_count": 293,
   "metadata": {},
   "outputs": [],
   "source": [
    "# EXERCISES"
   ]
  },
  {
   "cell_type": "code",
   "execution_count": 294,
   "metadata": {},
   "outputs": [],
   "source": [
    "# Grain/Seed dataset\n",
    "\n",
    "data = pd.read_csv(\"datasets/seeds_dataset.csv\",header=None)[::3]\n",
    "samples = data.iloc[:,:-1].values\n",
    "variety_numbers = list(data.iloc[:,-1])"
   ]
  },
  {
   "cell_type": "code",
   "execution_count": 295,
   "metadata": {},
   "outputs": [
    {
     "data": {
      "image/png": "[encoded data removed]",
      "text/plain": [
       "<Figure size 432x288 with 1 Axes>"
      ]
     },
     "metadata": {},
     "output_type": "display_data"
    }
   ],
   "source": [
    "# t-SNE visualization of grain dataset\n",
    "\n",
    "# Import TSNE\n",
    "from sklearn.manifold import TSNE\n",
    "\n",
    "# Create a TSNE instance: model\n",
    "model = TSNE(learning_rate=200)\n",
    "\n",
    "# Apply fit_transform to samples: tsne_features\n",
    "tsne_features = model.fit_transform(samples)\n",
    "\n",
    "# Select the 0th feature: xs\n",
    "xs = tsne_features[:,0]\n",
    "\n",
    "# Select the 1st feature: ys\n",
    "ys = tsne_features[:,1]\n",
    "\n",
    "# Scatter plot, coloring by variety_numbers\n",
    "plt.scatter(xs,ys,c=variety_numbers)\n",
    "plt.show()"
   ]
  },
  {
   "cell_type": "code",
   "execution_count": 296,
   "metadata": {},
   "outputs": [],
   "source": [
    "# Stocks data\n",
    "\n",
    "data = pd.read_csv(\"datasets/company-stock-movements-2010-2015-incl.csv\")\n",
    "companies = list(data.iloc[:,0])\n",
    "movements = data.iloc[:,1:].values\n",
    "\n",
    "# Normalize\n",
    "\n",
    "from sklearn.preprocessing import normalize\n",
    "normalized_movements = normalize(movements)"
   ]
  },
  {
   "cell_type": "code",
   "execution_count": 297,
   "metadata": {},
   "outputs": [
    {
     "data": {
      "image/png": "[encoded data removed]",
      "text/plain": [
       "<Figure size 432x288 with 1 Axes>"
      ]
     },
     "metadata": {},
     "output_type": "display_data"
    }
   ],
   "source": [
    "# A t-SNE map of the stock market\n",
    "\n",
    "# Import TSNE\n",
    "from sklearn.manifold import TSNE\n",
    "\n",
    "# Create a TSNE instance: model\n",
    "model = TSNE(learning_rate=50)\n",
    "\n",
    "# Apply fit_transform to normalized_movements: tsne_features\n",
    "tsne_features = model.fit_transform(normalized_movements)\n",
    "\n",
    "# Select the 0th feature: xs\n",
    "xs = tsne_features[:,0]\n",
    "\n",
    "# Select the 1th feature: ys\n",
    "ys = tsne_features[:,1]\n",
    "\n",
    "# Scatter plot\n",
    "plt.scatter(xs,ys,alpha=0.5)\n",
    "\n",
    "# Annotate the points\n",
    "for x, y, company in zip(xs, ys, companies):\n",
    "    plt.annotate(company, (x, y), fontsize=5, alpha=0.75)\n",
    "plt.show()"
   ]
  },
  {
   "cell_type": "markdown",
   "metadata": {},
   "source": [
    "#### **Chap 3: Decorrelating your data and dimension reduction**"
   ]
  },
  {
   "cell_type": "code",
   "execution_count": 298,
   "metadata": {},
   "outputs": [],
   "source": [
    "# Import plotting modules\n",
    "import matplotlib.pyplot as plt\n",
    "import seaborn as sns\n",
    "import pandas as pd\n",
    "import numpy as np\n",
    "plt.style.use('ggplot')"
   ]
  },
  {
   "cell_type": "markdown",
   "metadata": {},
   "source": [
    "##### Visualizing the PCA transformation"
   ]
  },
  {
   "cell_type": "markdown",
   "metadata": {},
   "source": [
    "- More efficient storage and computation\n",
    "- Remove less-informative \"noise\" features\n",
    "    - cause problems for prediction tasks\n",
    "- PCA = \"Principal Component Analysis\"\n",
    "    - Fundamental dimension reduction technique\n",
    "- First step \"decorrelation\" (considered here)\n",
    "- Second step reduces dimension (considered later)"
   ]
  },
  {
   "cell_type": "markdown",
   "metadata": {},
   "source": [
    "Decorrelation\n",
    "- Rotates data samples to be aligned with axes\n",
    "- Shifts data samples so they have mean 0\n",
    "- No information is lost"
   ]
  },
  {
   "cell_type": "code",
   "execution_count": 299,
   "metadata": {},
   "outputs": [],
   "source": [
    "# Piedmont wines dataset\n",
    "\n",
    "samples = pd.read_csv(\"datasets/piedmont_wine_data.csv\",header=0).iloc[:,[7,13]].values\n",
    "varieties = pd.read_csv(\"datasets/piedmont_wine_data.csv\",header=0).iloc[:,0]"
   ]
  },
  {
   "cell_type": "code",
   "execution_count": 300,
   "metadata": {},
   "outputs": [
    {
     "data": {
      "image/png": "[encoded data removed]",
      "text/plain": [
       "<Figure size 432x288 with 1 Axes>"
      ]
     },
     "metadata": {},
     "output_type": "display_data"
    }
   ],
   "source": [
    "# Plot non-transformed features\n",
    "\n",
    "plt.scatter(samples[:,0],samples[:,1],c=varieties,s=10);\n",
    "plt.xlim((-4,6))\n",
    "plt.ylim((-4,6))\n",
    "# Draw lines to split quadrants\n",
    "plt.plot([0,0],[-4,6], linewidth=1, color='black' )\n",
    "plt.plot([-4,6],[0,0], linewidth=1, color='black' )\n",
    "plt.title('total_phenols vs. od280');"
   ]
  },
  {
   "cell_type": "code",
   "execution_count": 301,
   "metadata": {},
   "outputs": [
    {
     "name": "stdout",
     "output_type": "stream",
     "text": [
      "[[-1.32771994  0.45139607]\n",
      " [-0.83249607  0.23309966]\n",
      " [-0.75216868 -0.02947892]]\n"
     ]
    }
   ],
   "source": [
    "# Using scikit-learn PCA\n",
    "\n",
    "from sklearn.decomposition import PCA\n",
    "model = PCA()\n",
    "model.fit(samples)\n",
    "transformed = model.transform(samples)\n",
    "print(transformed[:3])"
   ]
  },
  {
   "cell_type": "code",
   "execution_count": 302,
   "metadata": {},
   "outputs": [
    {
     "data": {
      "image/png": "[encoded data removed]",
      "text/plain": [
       "<Figure size 432x288 with 1 Axes>"
      ]
     },
     "metadata": {},
     "output_type": "display_data"
    }
   ],
   "source": [
    "# Plot transformed features\n",
    "\n",
    "plt.scatter(transformed[:,0],transformed[:,1],c=varieties,s=10);\n",
    "plt.xlim((-4,6))\n",
    "plt.ylim((-4,6))\n",
    "# Draw lines to split quadrants\n",
    "plt.plot([0,0],[-4,6], linewidth=1, color='black' )\n",
    "plt.plot([-4,6],[0,0], linewidth=1, color='black' )\n",
    "plt.title('PCA features');"
   ]
  },
  {
   "cell_type": "code",
   "execution_count": 303,
   "metadata": {},
   "outputs": [
    {
     "name": "stdout",
     "output_type": "stream",
     "text": [
      "[[-0.64116665 -0.76740167]\n",
      " [-0.76740167  0.64116665]]\n"
     ]
    }
   ],
   "source": [
    "# Principal components\n",
    "\n",
    "print(model.components_)"
   ]
  },
  {
   "cell_type": "code",
   "execution_count": 304,
   "metadata": {},
   "outputs": [],
   "source": [
    "# EXERCISES"
   ]
  },
  {
   "cell_type": "code",
   "execution_count": 305,
   "metadata": {},
   "outputs": [],
   "source": [
    "# Grain/Seed dataset\n",
    "\n",
    "grains = pd.read_csv(\"datasets/seeds_dataset.csv\",header=None,usecols=[3,4])[[4,3]].values"
   ]
  },
  {
   "cell_type": "code",
   "execution_count": 306,
   "metadata": {},
   "outputs": [
    {
     "data": {
      "image/png": "[encoded data removed]",
      "text/plain": [
       "<Figure size 432x288 with 1 Axes>"
      ]
     },
     "metadata": {},
     "output_type": "display_data"
    },
    {
     "name": "stdout",
     "output_type": "stream",
     "text": [
      "0.8604149377143466\n"
     ]
    }
   ],
   "source": [
    "# Correlated data in nature\n",
    "\n",
    "# Perform the necessary imports\n",
    "import matplotlib.pyplot as plt\n",
    "from scipy.stats import pearsonr\n",
    "\n",
    "# Assign the 0th column of grains: width\n",
    "width = grains[:,0]\n",
    "\n",
    "# Assign the 1st column of grains: length\n",
    "length = grains[:,1]\n",
    "\n",
    "# Scatter plot width vs length\n",
    "plt.scatter(width, length, s=10)\n",
    "plt.axis('equal')\n",
    "plt.show()\n",
    "\n",
    "# Calculate the Pearson correlation\n",
    "correlation, pvalue = pearsonr(width,length)\n",
    "\n",
    "# Display the correlation\n",
    "print(correlation)"
   ]
  },
  {
   "cell_type": "code",
   "execution_count": 307,
   "metadata": {},
   "outputs": [
    {
     "data": {
      "image/png": "[encoded data removed]",
      "text/plain": [
       "<Figure size 432x288 with 1 Axes>"
      ]
     },
     "metadata": {},
     "output_type": "display_data"
    },
    {
     "name": "stdout",
     "output_type": "stream",
     "text": [
      "-5.204170427930421e-18\n"
     ]
    }
   ],
   "source": [
    "# Decorrelating the grain measurements with PCA\n",
    "\n",
    "# Import PCA\n",
    "from sklearn.decomposition import PCA\n",
    "\n",
    "# Create PCA instance: model\n",
    "model = PCA()\n",
    "\n",
    "# Apply the fit_transform method of model to grains: pca_features\n",
    "pca_features = model.fit_transform(grains)\n",
    "\n",
    "# Assign 0th column of pca_features: xs\n",
    "xs = pca_features[:,0]\n",
    "\n",
    "# Assign 1st column of pca_features: ys\n",
    "ys = pca_features[:,1]\n",
    "\n",
    "# Scatter plot xs vs ys\n",
    "plt.scatter(xs, ys, s=10)\n",
    "plt.axis('equal')\n",
    "plt.show()\n",
    "\n",
    "# Calculate the Pearson correlation of xs and ys\n",
    "correlation, pvalue = pearsonr(xs, ys)\n",
    "\n",
    "# Display the correlation\n",
    "print(correlation)"
   ]
  },
  {
   "cell_type": "markdown",
   "metadata": {},
   "source": [
    "##### Intrinsic dimension"
   ]
  },
  {
   "cell_type": "code",
   "execution_count": 308,
   "metadata": {},
   "outputs": [],
   "source": [
    "# Versicolor dataset\n",
    "\n",
    "data = pd.read_csv(\"datasets/iris_data.csv\")\n",
    "versicolor = data[data['class']=='versicolor']\n",
    "x = versicolor['sepal_length']\n",
    "y = versicolor['sepal_width']\n",
    "z = versicolor['petal_width']"
   ]
  },
  {
   "cell_type": "code",
   "execution_count": 309,
   "metadata": {},
   "outputs": [
    {
     "data": {
      "image/png": "[encoded data removed]",
      "text/plain": [
       "<Figure size 432x288 with 1 Axes>"
      ]
     },
     "metadata": {},
     "output_type": "display_data"
    }
   ],
   "source": [
    "# 3D scatter plot of Versicolor dataset\n",
    "\n",
    "import matplotlib.pyplot as plt\n",
    "from mpl_toolkits import mplot3d\n",
    "fig = plt.figure()\n",
    "ax = plt.axes(projection='3d')\n",
    "ax.scatter(x, y, z, cmap='viridis', linewidth=0.5);"
   ]
  },
  {
   "cell_type": "markdown",
   "metadata": {},
   "source": [
    "Scatter plots work only if samples have 2 or 3 features\n",
    "\n",
    "PCA identifies intrinsic dimension when samples have any number of features\n",
    "\n",
    "Intrinsic dimension = number of PCA features with significant\n",
    "variance"
   ]
  },
  {
   "cell_type": "code",
   "execution_count": 310,
   "metadata": {},
   "outputs": [],
   "source": [
    "# PCA of the versicolor samples\n",
    "\n",
    "samples = versicolor.iloc[:,[0,1,3]].values"
   ]
  },
  {
   "cell_type": "code",
   "execution_count": 311,
   "metadata": {},
   "outputs": [
    {
     "data": {
      "text/plain": [
       "PCA()"
      ]
     },
     "execution_count": 311,
     "metadata": {},
     "output_type": "execute_result"
    }
   ],
   "source": [
    "# Import PCA\n",
    "from sklearn.decomposition import PCA\n",
    "\n",
    "pca = PCA()\n",
    "pca.fit(samples)"
   ]
  },
  {
   "cell_type": "code",
   "execution_count": 312,
   "metadata": {},
   "outputs": [
    {
     "data": {
      "image/png": "[encoded data removed]",
      "text/plain": [
       "<Figure size 432x288 with 1 Axes>"
      ]
     },
     "metadata": {},
     "output_type": "display_data"
    }
   ],
   "source": [
    "features = range(pca.n_components_)\n",
    "plt.bar(features, pca.explained_variance_)\n",
    "plt.xticks(features)\n",
    "plt.ylabel('variance')\n",
    "plt.xlabel('PCA feature')\n",
    "plt.show()"
   ]
  },
  {
   "cell_type": "code",
   "execution_count": 313,
   "metadata": {},
   "outputs": [],
   "source": [
    "# EXERCISES"
   ]
  },
  {
   "cell_type": "code",
   "execution_count": 314,
   "metadata": {},
   "outputs": [],
   "source": [
    "# Grain/Seed dataset\n",
    "grains = pd.read_csv(\"datasets/seeds_dataset.csv\",header=None,usecols=[3,4])[[4,3]].values"
   ]
  },
  {
   "cell_type": "code",
   "execution_count": 315,
   "metadata": {},
   "outputs": [
    {
     "data": {
      "image/png": "[encoded data removed]",
      "text/plain": [
       "<Figure size 432x288 with 1 Axes>"
      ]
     },
     "metadata": {},
     "output_type": "display_data"
    }
   ],
   "source": [
    "# The first principal component\n",
    "\n",
    "# Make a scatter plot of the untransformed points\n",
    "plt.scatter(grains[:,0], grains[:,1],c='blue',s=10)\n",
    "\n",
    "# Create a PCA instance: model\n",
    "model = PCA()\n",
    "\n",
    "# Fit model to points\n",
    "model.fit(grains)\n",
    "\n",
    "# Get the mean of the grain samples: mean\n",
    "mean = model.mean_\n",
    "\n",
    "# Get the first principal component: first_pc\n",
    "first_pc = model.components_[0,:]\n",
    "\n",
    "# Plot first_pc as an arrow, starting at mean\n",
    "plt.arrow(mean[0], mean[1], first_pc[0], first_pc[1], color='red', width=0.01)\n",
    "\n",
    "# Keep axes on same scale\n",
    "plt.axis('equal')\n",
    "plt.show()"
   ]
  },
  {
   "cell_type": "code",
   "execution_count": 316,
   "metadata": {},
   "outputs": [],
   "source": [
    "# Fish dataset\n",
    "\n",
    "data = pd.read_csv(\"datasets/fish_catch.csv\",header=None).dropna()\n",
    "species = list(data[0].map({1:'Bream',2:'Whitewish',3:'Roach',4:'?',5:'Smelt',6:'Pike',7:'Perch'}))\n",
    "samples = data.iloc[:,1:].values"
   ]
  },
  {
   "cell_type": "code",
   "execution_count": 317,
   "metadata": {},
   "outputs": [
    {
     "data": {
      "image/png": "[encoded data removed]",
      "text/plain": [
       "<Figure size 432x288 with 1 Axes>"
      ]
     },
     "metadata": {},
     "output_type": "display_data"
    }
   ],
   "source": [
    "# Variance of the PCA features\n",
    "\n",
    "# Perform the necessary imports\n",
    "from sklearn.decomposition import PCA\n",
    "from sklearn.preprocessing import StandardScaler\n",
    "from sklearn.pipeline import make_pipeline\n",
    "import matplotlib.pyplot as plt\n",
    "\n",
    "# Create scaler: scaler\n",
    "scaler = StandardScaler()\n",
    "\n",
    "# Create a PCA instance: pca\n",
    "pca = PCA()\n",
    "\n",
    "# Create pipeline: pipeline\n",
    "pipeline = make_pipeline(scaler,pca)\n",
    "\n",
    "# Fit the pipeline to 'samples'\n",
    "pipeline.fit(samples)\n",
    "\n",
    "# Plot the explained variances\n",
    "features = range(pca.n_components_)\n",
    "plt.bar(features, pca.explained_variance_)\n",
    "plt.xlabel('PCA feature')\n",
    "plt.ylabel('variance')\n",
    "plt.xticks(features)\n",
    "plt.show()"
   ]
  },
  {
   "cell_type": "markdown",
   "metadata": {},
   "source": [
    "##### Dimension reduction with PCA"
   ]
  },
  {
   "cell_type": "markdown",
   "metadata": {},
   "source": [
    "Represents same data, using less features\n",
    "\n",
    "Important part of machine-learning pipelines\n",
    "\n",
    "Can be performed using PCA"
   ]
  },
  {
   "cell_type": "code",
   "execution_count": 318,
   "metadata": {},
   "outputs": [],
   "source": [
    "# Iris dataset\n",
    "samples = load_iris()['data']\n",
    "species = load_iris()['target']"
   ]
  },
  {
   "cell_type": "code",
   "execution_count": 319,
   "metadata": {},
   "outputs": [
    {
     "data": {
      "text/plain": [
       "PCA(n_components=2)"
      ]
     },
     "execution_count": 319,
     "metadata": {},
     "output_type": "execute_result"
    }
   ],
   "source": [
    "# Dimension reduction of iris dataset\n",
    "\n",
    "from sklearn.decomposition import PCA\n",
    "pca = PCA(n_components=2)\n",
    "pca.fit(samples)"
   ]
  },
  {
   "cell_type": "code",
   "execution_count": 320,
   "metadata": {},
   "outputs": [
    {
     "name": "stdout",
     "output_type": "stream",
     "text": [
      "(150, 2)\n"
     ]
    }
   ],
   "source": [
    "transformed = pca.transform(samples)\n",
    "print(transformed.shape)"
   ]
  },
  {
   "cell_type": "code",
   "execution_count": 321,
   "metadata": {},
   "outputs": [
    {
     "data": {
      "image/png": "[encoded data removed]",
      "text/plain": [
       "<Figure size 432x288 with 1 Axes>"
      ]
     },
     "metadata": {},
     "output_type": "display_data"
    }
   ],
   "source": [
    "# Iris dataset in 2 dimensions\n",
    "\n",
    "import matplotlib.pyplot as plt\n",
    "xs = transformed[:,0]\n",
    "ys = transformed[:,1]\n",
    "plt.scatter(xs, ys, c=species, s=10)\n",
    "plt.show()"
   ]
  },
  {
   "cell_type": "markdown",
   "metadata": {},
   "source": [
    "##### Sparse arrays and csr_matrix"
   ]
  },
  {
   "cell_type": "markdown",
   "metadata": {},
   "source": [
    "Array is \"sparse\": most entries are zero  \n",
    "Can use scipy.sparse.csr_matrix instead of NumPy array  \n",
    "csr_matrix remembers only the non-zero entries (saves space!)  \n",
    "scikit-learn PCA doesn't support csr_matrix  \n",
    "Use scikit-learn TruncatedSVD instead  \n",
    "Performs same transformation"
   ]
  },
  {
   "cell_type": "code",
   "execution_count": 322,
   "metadata": {},
   "outputs": [],
   "source": [
    "# EXERCISES"
   ]
  },
  {
   "cell_type": "code",
   "execution_count": 323,
   "metadata": {},
   "outputs": [],
   "source": [
    "# Fish dataset scaled\n",
    "data = pd.read_csv(\"datasets/fish_catch.csv\",header=None).dropna()\n",
    "species = list(data[0].map({1:'Bream',2:'Whitewish',3:'Roach',4:'?',5:'Smelt',6:'Pike',7:'Perch'}))\n",
    "samples = data.iloc[:,0:].values\n",
    "\n",
    "from sklearn.preprocessing import StandardScaler\n",
    "scaler = StandardScaler()\n",
    "scaled_samples = scaler.fit_transform(samples)"
   ]
  },
  {
   "cell_type": "code",
   "execution_count": 324,
   "metadata": {},
   "outputs": [
    {
     "name": "stdout",
     "output_type": "stream",
     "text": [
      "(85, 2)\n"
     ]
    }
   ],
   "source": [
    "# Dimension reduction of the fish measurements\n",
    "\n",
    "# Import PCA\n",
    "from sklearn.decomposition import PCA\n",
    "\n",
    "# Create a PCA model with 2 components: pca\n",
    "pca = PCA(n_components=2)\n",
    "\n",
    "# Fit the PCA instance to the scaled samples\n",
    "pca.fit(scaled_samples)\n",
    "\n",
    "# Transform the scaled samples: pca_features\n",
    "pca_features = pca.transform(scaled_samples)\n",
    "\n",
    "# Print the shape of pca_features\n",
    "print(pca_features.shape)"
   ]
  },
  {
   "cell_type": "code",
   "execution_count": 325,
   "metadata": {},
   "outputs": [],
   "source": [
    "# TF-IDF toy collection of documents\n",
    "documents = ['cats say meow', 'dogs say woof', 'dogs chase cats']"
   ]
  },
  {
   "cell_type": "code",
   "execution_count": 326,
   "metadata": {},
   "outputs": [
    {
     "name": "stdout",
     "output_type": "stream",
     "text": [
      "[[0.51785612 0.         0.         0.68091856 0.51785612 0.        ]\n",
      " [0.         0.         0.51785612 0.         0.51785612 0.68091856]\n",
      " [0.51785612 0.68091856 0.51785612 0.         0.         0.        ]]\n",
      "['cats', 'chase', 'dogs', 'meow', 'say', 'woof']\n"
     ]
    }
   ],
   "source": [
    "# A tf-idf word-frequency array\n",
    "\n",
    "# Import TfidfVectorizer\n",
    "from sklearn.feature_extraction.text import TfidfVectorizer\n",
    "\n",
    "# Create a TfidfVectorizer: tfidf\n",
    "tfidf = TfidfVectorizer() \n",
    "\n",
    "# Apply fit_transform to document: csr_mat\n",
    "csr_mat = tfidf.fit_transform(documents)\n",
    "\n",
    "# Print result of toarray() method\n",
    "print(csr_mat.toarray())\n",
    "\n",
    "# Get the words: words\n",
    "words = tfidf.get_feature_names()\n",
    "\n",
    "# Print words\n",
    "print(words)"
   ]
  },
  {
   "cell_type": "markdown",
   "metadata": {},
   "source": [
    "** Wikipedia dataset **"
   ]
  },
  {
   "cell_type": "markdown",
   "metadata": {},
   "source": [
    "To preprocess `wikipedia-vectors.csv` into the format in which you used it in the exercises, you have to take its transpose:\n",
    "\n",
    "```{python}\n",
    "import pandas as pd\n",
    "from scipy.sparse import csr_matrix\n",
    "\n",
    "df = pd.read_csv('wikipedia-vectors.csv', index_col=0)\n",
    "articles = csr_matrix(df.transpose())\n",
    "titles = list(df.columns)\n",
    "```\n",
    "\n",
    "The reason for taking this transpose is that without it, there would be 13,000 columns (corresponding to the 13,000 words in the file), which is a lot of columns for a CSV to have."
   ]
  },
  {
   "cell_type": "code",
   "execution_count": 327,
   "metadata": {},
   "outputs": [],
   "source": [
    "from scipy.sparse import csr_matrix\n",
    "df = pd.read_csv('datasets/wikipedia-vectors.csv', index_col=0)\n",
    "articles = csr_matrix(df.transpose())\n",
    "titles = list(df.columns)"
   ]
  },
  {
   "cell_type": "code",
   "execution_count": 328,
   "metadata": {},
   "outputs": [],
   "source": [
    "# Clustering Wikipedia part I\n",
    "\n",
    "# Perform the necessary imports\n",
    "from sklearn.decomposition import TruncatedSVD\n",
    "from sklearn.cluster import KMeans\n",
    "from sklearn.pipeline import make_pipeline\n",
    "\n",
    "# Create a TruncatedSVD instance: svd\n",
    "svd = TruncatedSVD(n_components=50)\n",
    "\n",
    "# Create a KMeans instance: kmeans\n",
    "kmeans = KMeans(n_clusters=6)\n",
    "\n",
    "# Create a pipeline: pipeline\n",
    "pipeline = make_pipeline(svd,kmeans)"
   ]
  },
  {
   "cell_type": "code",
   "execution_count": 329,
   "metadata": {},
   "outputs": [
    {
     "name": "stdout",
     "output_type": "stream",
     "text": [
      "    label                                        article\n",
      "59      0                                    Adam Levine\n",
      "50      0                                   Chad Kroeger\n",
      "51      0                                     Nate Ruess\n",
      "52      0                                     The Wanted\n",
      "53      0                                   Stevie Nicks\n",
      "58      0                                         Sepsis\n",
      "55      0                                  Black Sabbath\n",
      "56      0                                       Skrillex\n",
      "57      0                          Red Hot Chili Peppers\n",
      "54      0                                 Arctic Monkeys\n",
      "21      1                             Michael Fassbender\n",
      "28      1                                  Anne Hathaway\n",
      "27      1                                 Dakota Fanning\n",
      "26      1                                     Mila Kunis\n",
      "25      1                                  Russell Crowe\n",
      "24      1                                   Jessica Biel\n",
      "23      1                           Catherine Zeta-Jones\n",
      "22      1                              Denzel Washington\n",
      "20      1                                 Angelina Jolie\n",
      "29      1                               Jennifer Aniston\n",
      "0       2                                       HTTP 404\n",
      "1       2                                 Alexa Internet\n",
      "2       2                              Internet Explorer\n",
      "3       2                                    HTTP cookie\n",
      "4       2                                  Google Search\n",
      "5       2                                         Tumblr\n",
      "6       2                    Hypertext Transfer Protocol\n",
      "7       2                                  Social search\n",
      "8       2                                        Firefox\n",
      "9       2                                       LinkedIn\n",
      "38      3                                         Neymar\n",
      "37      3                                       Football\n",
      "36      3              2014 FIFA World Cup qualification\n",
      "35      3                Colombia national football team\n",
      "39      3                                  Franck Ribéry\n",
      "33      3                                 Radamel Falcao\n",
      "32      3                                   Arsenal F.C.\n",
      "31      3                              Cristiano Ronaldo\n",
      "30      3                  France national football team\n",
      "34      3                             Zlatan Ibrahimović\n",
      "17      4  Greenhouse gas emissions by the United States\n",
      "16      4                                        350.org\n",
      "15      4                                 Kyoto Protocol\n",
      "14      4                                 Climate change\n",
      "13      4                               Connie Hedegaard\n",
      "12      4                                   Nigel Lawson\n",
      "11      4       Nationally Appropriate Mitigation Action\n",
      "10      4                                 Global warming\n",
      "18      4  2010 United Nations Climate Change Conference\n",
      "19      4  2007 United Nations Climate Change Conference\n",
      "49      5                                       Lymphoma\n",
      "46      5                                     Prednisone\n",
      "45      5                                    Hepatitis C\n",
      "44      5                                           Gout\n",
      "43      5                                       Leukemia\n",
      "42      5                                    Doxycycline\n",
      "41      5                                    Hepatitis B\n",
      "40      5                                    Tonsillitis\n",
      "48      5                                     Gabapentin\n",
      "47      5                                          Fever\n"
     ]
    }
   ],
   "source": [
    "# Clustering Wikipedia part II\n",
    "\n",
    "# Import pandas\n",
    "import pandas as pd\n",
    "\n",
    "# Fit the pipeline to articles\n",
    "pipeline.fit(articles)\n",
    "\n",
    "# Calculate the cluster labels: labels\n",
    "labels = pipeline.predict(articles)\n",
    "\n",
    "# Create a DataFrame aligning labels and titles: df\n",
    "df = pd.DataFrame({'label': labels, 'article': titles})\n",
    "\n",
    "# Display df sorted by cluster label\n",
    "print(df.sort_values('label'))"
   ]
  },
  {
   "cell_type": "markdown",
   "metadata": {},
   "source": [
    "#### **Chap 4: Discovering interpretable features**"
   ]
  },
  {
   "cell_type": "code",
   "execution_count": 330,
   "metadata": {},
   "outputs": [],
   "source": [
    "# Import plotting modules\n",
    "import matplotlib.pyplot as plt\n",
    "import seaborn as sns\n",
    "import pandas as pd\n",
    "import numpy as np\n",
    "plt.style.use('ggplot')"
   ]
  },
  {
   "cell_type": "markdown",
   "metadata": {},
   "source": [
    "This Chapter introduces dimension reduction technique called \"Non-negative matrix factorization\" (\"NMF\") that expresses samples as combinations of interpretable parts. "
   ]
  },
  {
   "cell_type": "markdown",
   "metadata": {},
   "source": [
    "##### Non-negative matrix factorization (\"NMF\")"
   ]
  },
  {
   "cell_type": "markdown",
   "metadata": {},
   "source": [
    "- Dimension reduction technique\n",
    "- NMF models are interpretable (unlike PCA)\n",
    "- Easy to interpret means easy to explain!\n",
    "- However, all sample features must be non-negative (>= 0)\n",
    "- NMF expresses documents as combinations of topics (or \"themes\")\n",
    "- NMF expresses images as combinations of patterns"
   ]
  },
  {
   "cell_type": "markdown",
   "metadata": {},
   "source": [
    "Using scikit-learn NMF\n",
    "- Follows fit() / transform() pattern\n",
    "- Must specify number of components e.g. NMF(n_components=2)\n",
    "- Works with NumPy arrays and with csr_matrix"
   ]
  },
  {
   "cell_type": "code",
   "execution_count": 331,
   "metadata": {},
   "outputs": [
    {
     "name": "stdout",
     "output_type": "stream",
     "text": [
      "[[0.51785612 0.         0.         0.68091856 0.51785612 0.        ]\n",
      " [0.         0.         0.51785612 0.         0.51785612 0.68091856]\n",
      " [0.51785612 0.68091856 0.51785612 0.         0.         0.        ]]\n",
      "['cats', 'chase', 'dogs', 'meow', 'say', 'woof']\n"
     ]
    }
   ],
   "source": [
    "# Word-frequency array sample\n",
    "documents =  ['cats say meow', 'dogs say woof', 'dogs chase cats']\n",
    "\n",
    "# Import TfidfVectorizer\n",
    "from sklearn.feature_extraction.text import TfidfVectorizer\n",
    "\n",
    "# Create a TfidfVectorizer: tfidf\n",
    "tfidf = TfidfVectorizer() \n",
    "\n",
    "# Apply fit_transform to document: csr_mat\n",
    "samples = tfidf.fit_transform(documents)\n",
    "\n",
    "# Print result of toarray() method\n",
    "print(samples.toarray())\n",
    "\n",
    "# Get the words: words\n",
    "words = tfidf.get_feature_names()\n",
    "print(words)"
   ]
  },
  {
   "cell_type": "code",
   "execution_count": 332,
   "metadata": {},
   "outputs": [
    {
     "data": {
      "text/plain": [
       "NMF(n_components=2)"
      ]
     },
     "execution_count": 332,
     "metadata": {},
     "output_type": "execute_result"
    }
   ],
   "source": [
    "# Example usage of NMF\n",
    "\n",
    "from sklearn.decomposition import NMF\n",
    "model = NMF(n_components=2)\n",
    "model.fit(samples)"
   ]
  },
  {
   "cell_type": "code",
   "execution_count": 333,
   "metadata": {},
   "outputs": [
    {
     "name": "stdout",
     "output_type": "stream",
     "text": [
      "[[7.39385305e-01 4.86145903e-01 3.69697719e-01 4.86056916e-01\n",
      "  3.69630041e-01 0.00000000e+00]\n",
      " [3.30829344e-09 0.00000000e+00 4.64314508e-01 2.37651706e-05\n",
      "  4.64350652e-01 6.10541538e-01]]\n"
     ]
    }
   ],
   "source": [
    "nmf_features = model.transform(samples)\n",
    "print(model.components_)"
   ]
  },
  {
   "cell_type": "code",
   "execution_count": 334,
   "metadata": {},
   "outputs": [
    {
     "name": "stdout",
     "output_type": "stream",
     "text": [
      "[[7.00345146e-01 6.30067789e-05]\n",
      " [0.00000000e+00 1.11526983e+00]\n",
      " [7.00435872e-01 0.00000000e+00]]\n"
     ]
    }
   ],
   "source": [
    "print(nmf_features)"
   ]
  },
  {
   "cell_type": "code",
   "execution_count": 335,
   "metadata": {},
   "outputs": [
    {
     "name": "stdout",
     "output_type": "stream",
     "text": [
      "  (0, 2)\t0.5178561161676974\n",
      "  (0, 4)\t0.5178561161676974\n",
      "  (0, 5)\t0.680918560398684\n"
     ]
    }
   ],
   "source": [
    "print(samples[1,:])"
   ]
  },
  {
   "cell_type": "code",
   "execution_count": 336,
   "metadata": {},
   "outputs": [
    {
     "name": "stdout",
     "output_type": "stream",
     "text": [
      "[0.         1.11526983]\n"
     ]
    }
   ],
   "source": [
    "print(nmf_features[1,:])"
   ]
  },
  {
   "cell_type": "markdown",
   "metadata": {},
   "source": [
    "NMF fits to non-negative data, only\n",
    "- Word frequencies in each document\n",
    "- Images encoded as arrays\n",
    "- Audio spectrograms\n",
    "- Purchase histories on e-commerce sites"
   ]
  },
  {
   "cell_type": "code",
   "execution_count": 337,
   "metadata": {},
   "outputs": [],
   "source": [
    "# EXERCISES"
   ]
  },
  {
   "cell_type": "markdown",
   "metadata": {},
   "source": [
    "** Non-negative data **  \n",
    "Which of the following 2-dimensional arrays are examples of non-negative data?\n",
    "\n",
    "1. A tf-idf word-frequency array.\n",
    "1. An array daily stock market price movements (up and down), where each row represents a company.\n",
    "1. An array where rows are customers, columns are products and entries are 0 or 1, indicating whether a customer has purchased a product.\n",
    "\n",
    "** ANS: 1 and 3 **"
   ]
  },
  {
   "cell_type": "code",
   "execution_count": 338,
   "metadata": {},
   "outputs": [
    {
     "name": "stdout",
     "output_type": "stream",
     "text": [
      "[[0.         0.         0.         0.         0.         0.44046271]\n",
      " [0.         0.         0.         0.         0.         0.5666015 ]\n",
      " [0.00382026 0.         0.         0.         0.         0.39864428]\n",
      " [0.         0.         0.         0.         0.         0.38173758]\n",
      " [0.         0.         0.         0.         0.         0.48551404]\n",
      " [0.01292809 0.01378931 0.00776251 0.0334442  0.         0.33452029]\n",
      " [0.         0.         0.02067231 0.         0.00604539 0.35905891]\n",
      " [0.         0.         0.         0.         0.         0.49097363]\n",
      " [0.0154262  0.01428204 0.00376598 0.02370814 0.02626427 0.48077172]\n",
      " [0.01117301 0.03136851 0.0309457  0.06569144 0.01966938 0.33828713]]\n"
     ]
    }
   ],
   "source": [
    "# NMF applied to Wikipedia articles\n",
    "\n",
    "# Import NMF\n",
    "from sklearn.decomposition import NMF\n",
    "\n",
    "# Create an NMF instance: model\n",
    "model = NMF(n_components=6)\n",
    "\n",
    "# Fit the model to articles\n",
    "nmf_features = model.fit(articles)\n",
    "\n",
    "# Transform the articles: nmf_features\n",
    "nmf_features = model.transform(articles)\n",
    "\n",
    "# Print the NMF features\n",
    "print(nmf_features[:10])"
   ]
  },
  {
   "cell_type": "code",
   "execution_count": 339,
   "metadata": {},
   "outputs": [
    {
     "name": "stdout",
     "output_type": "stream",
     "text": [
      "0    0.003845\n",
      "1    0.000000\n",
      "2    0.000000\n",
      "3    0.575638\n",
      "4    0.000000\n",
      "5    0.000000\n",
      "Name: Anne Hathaway, dtype: float64\n",
      "0    0.000000\n",
      "1    0.005601\n",
      "2    0.000000\n",
      "3    0.422326\n",
      "4    0.000000\n",
      "5    0.000000\n",
      "Name: Denzel Washington, dtype: float64\n"
     ]
    }
   ],
   "source": [
    "# NMF features of the Wikipedia articles\n",
    "\n",
    "# Import pandas\n",
    "import pandas as pd\n",
    "\n",
    "# Create a pandas DataFrame: df\n",
    "df = pd.DataFrame(nmf_features,index=titles)\n",
    "\n",
    "# Print the row for 'Anne Hathaway'\n",
    "print(df.loc['Anne Hathaway'])\n",
    "\n",
    "# Print the row for 'Denzel Washington'\n",
    "print(df.loc['Denzel Washington'])"
   ]
  },
  {
   "cell_type": "markdown",
   "metadata": {},
   "source": [
    "** NMF reconstructs samples **\n",
    "\n",
    "     A = [2]  *   [ 1.   0.5  0. ]   =   [ 2.   1.  0. ]\n",
    "     B = [1]  *   [ 0.2  0.1  2.1]   =   [ 0.2   0.1  2.1 ]\n",
    "     \n",
    "     A + B = [ 2.2   1.1  2.1 ]"
   ]
  },
  {
   "cell_type": "markdown",
   "metadata": {},
   "source": [
    "##### NMF learns interpretable parts"
   ]
  },
  {
   "cell_type": "markdown",
   "metadata": {},
   "source": [
    "For documents:\n",
    "- NMF components represent topics\n",
    "- NMF features combine topics into documents\n",
    "\n",
    "For images, NMF components are parts of images"
   ]
  },
  {
   "cell_type": "code",
   "execution_count": 340,
   "metadata": {},
   "outputs": [
    {
     "name": "stdout",
     "output_type": "stream",
     "text": [
      "[[0.  1.  0.5]\n",
      " [1.  0.  1. ]]\n"
     ]
    }
   ],
   "source": [
    "# Visualizing samples\n",
    "\n",
    "sample = np.array([0., 1., 0.5, 1., 0., 1.])\n",
    "bitmap = sample.reshape((2, 3))\n",
    "print(bitmap)"
   ]
  },
  {
   "cell_type": "code",
   "execution_count": 341,
   "metadata": {},
   "outputs": [
    {
     "data": {
      "image/png": "[encoded data removed]",
      "text/plain": [
       "<Figure size 432x288 with 1 Axes>"
      ]
     },
     "metadata": {},
     "output_type": "display_data"
    }
   ],
   "source": [
    "from matplotlib import pyplot as plt\n",
    "plt.imshow(bitmap, cmap='gray', interpolation='nearest')\n",
    "plt.show()"
   ]
  },
  {
   "cell_type": "code",
   "execution_count": 342,
   "metadata": {},
   "outputs": [],
   "source": [
    "# EXERCISES"
   ]
  },
  {
   "cell_type": "code",
   "execution_count": 343,
   "metadata": {},
   "outputs": [],
   "source": [
    "# datasets required\n",
    "# NMF model created above\n",
    "f = open(\"datasets/wikipedia-vocabulary-utf8.txt\",'r',encoding='utf-8')\n",
    "words = f.read().split('\\n')"
   ]
  },
  {
   "cell_type": "code",
   "execution_count": 344,
   "metadata": {},
   "outputs": [],
   "source": [
    "model = NMF(n_components=6)\n",
    "\n",
    "# Fit the model to articles\n",
    "nmf_features = model.fit(articles)\n",
    "\n",
    "# Transform the articles: nmf_features\n",
    "nmf_features = model.transform(articles)"
   ]
  },
  {
   "cell_type": "code",
   "execution_count": 345,
   "metadata": {},
   "outputs": [
    {
     "name": "stdout",
     "output_type": "stream",
     "text": [
      "(6, 13125)\n",
      "film       0.627892\n",
      "award      0.253138\n",
      "starred    0.245290\n",
      "role       0.211456\n",
      "actress    0.186402\n",
      "Name: 3, dtype: float64\n"
     ]
    }
   ],
   "source": [
    "# NMF learns topics of documents\n",
    "\n",
    "# Import pandas\n",
    "import pandas as pd\n",
    "\n",
    "# Create a DataFrame: components_df\n",
    "components_df = pd.DataFrame(model.components_, columns=words)\n",
    "\n",
    "# Print the shape of the DataFrame\n",
    "print(components_df.shape)\n",
    "\n",
    "# Select row 3: component\n",
    "component = components_df.iloc[3,:]\n",
    "\n",
    "# Print result of nlargest\n",
    "print(component.nlargest())"
   ]
  },
  {
   "cell_type": "code",
   "execution_count": 346,
   "metadata": {},
   "outputs": [],
   "source": [
    "# Digits dataset\n",
    "samples = pd.read_csv(\"datasets/lcd-digits.csv\",header=None).values"
   ]
  },
  {
   "cell_type": "code",
   "execution_count": 347,
   "metadata": {
    "scrolled": true
   },
   "outputs": [
    {
     "name": "stdout",
     "output_type": "stream",
     "text": [
      "[0. 0. 0. 0. 0. 0. 0. 0. 0. 0. 1. 1. 1. 1. 0. 0. 0. 0. 0. 0. 0. 0. 1. 0.\n",
      " 0. 0. 0. 0. 0. 0. 1. 0. 0. 0. 0. 0. 0. 0. 1. 0. 0. 0. 0. 0. 0. 0. 1. 0.\n",
      " 0. 0. 0. 0. 0. 0. 0. 0. 0. 0. 0. 0. 0. 0. 1. 0. 0. 0. 0. 0. 0. 0. 1. 0.\n",
      " 0. 0. 0. 0. 0. 0. 1. 0. 0. 0. 0. 0. 0. 0. 1. 0. 0. 0. 0. 0. 0. 0. 0. 0.\n",
      " 0. 0. 0. 0. 0. 0. 0. 0.]\n",
      "[[0. 0. 0. 0. 0. 0. 0. 0.]\n",
      " [0. 0. 1. 1. 1. 1. 0. 0.]\n",
      " [0. 0. 0. 0. 0. 0. 1. 0.]\n",
      " [0. 0. 0. 0. 0. 0. 1. 0.]\n",
      " [0. 0. 0. 0. 0. 0. 1. 0.]\n",
      " [0. 0. 0. 0. 0. 0. 1. 0.]\n",
      " [0. 0. 0. 0. 0. 0. 0. 0.]\n",
      " [0. 0. 0. 0. 0. 0. 1. 0.]\n",
      " [0. 0. 0. 0. 0. 0. 1. 0.]\n",
      " [0. 0. 0. 0. 0. 0. 1. 0.]\n",
      " [0. 0. 0. 0. 0. 0. 1. 0.]\n",
      " [0. 0. 0. 0. 0. 0. 0. 0.]\n",
      " [0. 0. 0. 0. 0. 0. 0. 0.]]\n"
     ]
    },
    {
     "data": {
      "image/png": "[encoded data removed]",
      "text/plain": [
       "<Figure size 432x288 with 2 Axes>"
      ]
     },
     "metadata": {},
     "output_type": "display_data"
    }
   ],
   "source": [
    "# Explore the LED digits dataset\n",
    "\n",
    "# Import pyplot\n",
    "from matplotlib import pyplot as plt\n",
    "\n",
    "# Select the 0th row: digit\n",
    "digit = samples[0,:]\n",
    "\n",
    "# Print digit\n",
    "print(digit)\n",
    "\n",
    "# Reshape digit to a 13x8 array: bitmap\n",
    "bitmap = digit.reshape(13,8)\n",
    "\n",
    "# Print bitmap\n",
    "print(bitmap)\n",
    "\n",
    "# Use plt.imshow to display bitmap\n",
    "plt.imshow(bitmap, cmap='gray', interpolation='nearest')\n",
    "plt.colorbar()\n",
    "plt.show()"
   ]
  },
  {
   "cell_type": "code",
   "execution_count": 348,
   "metadata": {},
   "outputs": [],
   "source": [
    "def show_as_image(sample):\n",
    "    bitmap = sample.reshape((13, 8))\n",
    "    plt.figure()\n",
    "    plt.imshow(bitmap, cmap='gray', interpolation='nearest')\n",
    "    plt.colorbar()\n",
    "    plt.show()"
   ]
  },
  {
   "cell_type": "code",
   "execution_count": 349,
   "metadata": {
    "scrolled": true
   },
   "outputs": [
    {
     "data": {
      "image/png": "[encoded data removed]",
      "text/plain": [
       "<Figure size 432x288 with 2 Axes>"
      ]
     },
     "metadata": {},
     "output_type": "display_data"
    },
    {
     "data": {
      "image/png": "[encoded data removed]",
      "text/plain": [
       "<Figure size 432x288 with 2 Axes>"
      ]
     },
     "metadata": {},
     "output_type": "display_data"
    },
    {
     "data": {
      "image/png": "[encoded data removed]",
      "text/plain": [
       "<Figure size 432x288 with 2 Axes>"
      ]
     },
     "metadata": {},
     "output_type": "display_data"
    },
    {
     "data": {
      "image/png": "[encoded data removed]",
      "text/plain": [
       "<Figure size 432x288 with 2 Axes>"
      ]
     },
     "metadata": {},
     "output_type": "display_data"
    },
    {
     "data": {
      "image/png": "[encoded data removed]",
      "text/plain": [
       "<Figure size 432x288 with 2 Axes>"
      ]
     },
     "metadata": {},
     "output_type": "display_data"
    },
    {
     "data": {
      "image/png": "[encoded data removed]",
      "text/plain": [
       "<Figure size 432x288 with 2 Axes>"
      ]
     },
     "metadata": {},
     "output_type": "display_data"
    },
    {
     "data": {
      "image/png": "[encoded data removed]",
      "text/plain": [
       "<Figure size 432x288 with 2 Axes>"
      ]
     },
     "metadata": {},
     "output_type": "display_data"
    },
    {
     "name": "stdout",
     "output_type": "stream",
     "text": [
      "[4.76823559e-01 0.00000000e+00 0.00000000e+00 5.90605054e-01\n",
      " 4.81559442e-01 0.00000000e+00 7.37568241e-16]\n"
     ]
    }
   ],
   "source": [
    "# NMF learns the parts of images\n",
    "\n",
    "# Import NMF\n",
    "from sklearn.decomposition import NMF\n",
    "\n",
    "# Create an NMF model: model\n",
    "model = NMF(n_components=7)\n",
    "\n",
    "# Apply fit_transform to samples: features\n",
    "features = model.fit_transform(samples)\n",
    "\n",
    "# Call show_as_image on each component\n",
    "for component in model.components_:\n",
    "    show_as_image(component)\n",
    "\n",
    "# Assign the 0th row of features: digit_features\n",
    "digit_features = features[0,:]\n",
    "\n",
    "# Print digit_features\n",
    "print(digit_features)"
   ]
  },
  {
   "cell_type": "code",
   "execution_count": 350,
   "metadata": {},
   "outputs": [
    {
     "data": {
      "image/png": "[encoded data removed]",
      "text/plain": [
       "<Figure size 432x288 with 2 Axes>"
      ]
     },
     "metadata": {},
     "output_type": "display_data"
    },
    {
     "data": {
      "image/png": "[encoded data removed]",
      "text/plain": [
       "<Figure size 432x288 with 2 Axes>"
      ]
     },
     "metadata": {},
     "output_type": "display_data"
    },
    {
     "data": {
      "image/png": "[encoded data removed]",
      "text/plain": [
       "<Figure size 432x288 with 2 Axes>"
      ]
     },
     "metadata": {},
     "output_type": "display_data"
    },
    {
     "data": {
      "image/png": "[encoded data removed]",
      "text/plain": [
       "<Figure size 432x288 with 2 Axes>"
      ]
     },
     "metadata": {},
     "output_type": "display_data"
    },
    {
     "data": {
      "image/png": "[encoded data removed]",
      "text/plain": [
       "<Figure size 432x288 with 2 Axes>"
      ]
     },
     "metadata": {},
     "output_type": "display_data"
    },
    {
     "data": {
      "image/png": "[encoded data removed]",
      "text/plain": [
       "<Figure size 432x288 with 2 Axes>"
      ]
     },
     "metadata": {},
     "output_type": "display_data"
    },
    {
     "data": {
      "image/png": "[encoded data removed]",
      "text/plain": [
       "<Figure size 432x288 with 2 Axes>"
      ]
     },
     "metadata": {},
     "output_type": "display_data"
    }
   ],
   "source": [
    "# PCA doesn't learn parts\n",
    "\n",
    "# Import PCA\n",
    "from sklearn.decomposition import PCA\n",
    "\n",
    "# Create a PCA instance: model\n",
    "model = PCA(n_components=7)\n",
    "\n",
    "# Apply fit_transform to samples: features\n",
    "features = model.fit_transform(samples)\n",
    "\n",
    "# Call show_as_image on each component\n",
    "for component in model.components_:\n",
    "    show_as_image(component)"
   ]
  },
  {
   "cell_type": "markdown",
   "metadata": {},
   "source": [
    "Components of PCA do not represent meaningful parts of images of LED digits!"
   ]
  },
  {
   "cell_type": "markdown",
   "metadata": {},
   "source": [
    "##### Building recommender systems using NMF"
   ]
  },
  {
   "cell_type": "code",
   "execution_count": 351,
   "metadata": {},
   "outputs": [],
   "source": [
    "# Finding similar articles\n",
    "\n",
    "from sklearn.decomposition import NMF\n",
    "nmf = NMF(n_components=6)\n",
    "nmf_features = nmf.fit_transform(articles)"
   ]
  },
  {
   "cell_type": "code",
   "execution_count": 352,
   "metadata": {},
   "outputs": [
    {
     "name": "stdout",
     "output_type": "stream",
     "text": [
      "[0.00000000e+00 0.00000000e+00 0.00000000e+00 0.00000000e+00\n",
      " 0.00000000e+00 9.92625765e-02 0.00000000e+00 0.00000000e+00\n",
      " 4.91283068e-02 1.88645184e-01 0.00000000e+00 0.00000000e+00\n",
      " 1.90970333e-01 3.23178966e-02 0.00000000e+00 0.00000000e+00\n",
      " 8.59432574e-02 0.00000000e+00 0.00000000e+00 0.00000000e+00\n",
      " 9.92369118e-01 1.00000000e+00 9.99911926e-01 1.00000000e+00\n",
      " 1.00000000e+00 9.45496234e-01 9.99922081e-01 9.99048980e-01\n",
      " 9.99977501e-01 9.99327075e-01 0.00000000e+00 1.02686873e-02\n",
      " 7.02788463e-02 0.00000000e+00 0.00000000e+00 0.00000000e+00\n",
      " 0.00000000e+00 2.08246603e-01 5.19627280e-02 3.66183954e-03\n",
      " 0.00000000e+00 0.00000000e+00 0.00000000e+00 1.04111518e-02\n",
      " 1.08370903e-03 0.00000000e+00 0.00000000e+00 9.97811841e-04\n",
      " 3.11998984e-02 0.00000000e+00 0.00000000e+00 0.00000000e+00\n",
      " 4.24973037e-02 9.85034748e-02 0.00000000e+00 0.00000000e+00\n",
      " 1.88273731e-01 0.00000000e+00 3.01762957e-02 2.51666836e-01]\n"
     ]
    }
   ],
   "source": [
    "# Calculating the cosine similarities\n",
    "\n",
    "from sklearn.preprocessing import normalize\n",
    "norm_features = normalize(nmf_features)\n",
    "current_article = norm_features[23,:] # if has index 23\n",
    "similarities = norm_features.dot(current_article)\n",
    "print(similarities)"
   ]
  },
  {
   "cell_type": "code",
   "execution_count": 353,
   "metadata": {},
   "outputs": [
    {
     "name": "stdout",
     "output_type": "stream",
     "text": [
      "Michael Fassbender      1.000000\n",
      "Catherine Zeta-Jones    1.000000\n",
      "Jessica Biel            1.000000\n",
      "Anne Hathaway           0.999978\n",
      "Mila Kunis              0.999922\n",
      "dtype: float64\n"
     ]
    }
   ],
   "source": [
    "# DataFrames and labels\n",
    "\n",
    "import pandas as pd\n",
    "norm_features = normalize(nmf_features)\n",
    "df = pd.DataFrame(norm_features, index=titles)\n",
    "current_article = df.loc['Catherine Zeta-Jones']\n",
    "similarities = df.dot(current_article)\n",
    "print(similarities.nlargest())"
   ]
  },
  {
   "cell_type": "code",
   "execution_count": 354,
   "metadata": {},
   "outputs": [],
   "source": [
    "# EXERCISES"
   ]
  },
  {
   "cell_type": "code",
   "execution_count": 355,
   "metadata": {},
   "outputs": [
    {
     "name": "stdout",
     "output_type": "stream",
     "text": [
      "Cristiano Ronaldo                1.000000\n",
      "Franck Ribéry                    0.999972\n",
      "Radamel Falcao                   0.999942\n",
      "Zlatan Ibrahimović               0.999942\n",
      "France national football team    0.999923\n",
      "dtype: float64\n"
     ]
    }
   ],
   "source": [
    "# Which articles are similar to 'Cristiano Ronaldo'?\n",
    "\n",
    "# Perform the necessary imports\n",
    "from sklearn.preprocessing import normalize\n",
    "\n",
    "# Normalize the NMF features: norm_features\n",
    "norm_features = normalize(nmf_features)\n",
    "\n",
    "# Create a DataFrame: df\n",
    "df = pd.DataFrame(norm_features,index=titles)\n",
    "\n",
    "# Select the row corresponding to 'Cristiano Ronaldo': article\n",
    "article = df.loc['Cristiano Ronaldo']\n",
    "\n",
    "# Compute the dot products: similarities\n",
    "similarities = df.dot(article)\n",
    "\n",
    "# Display those with the largest cosine similarity\n",
    "print(similarities.nlargest())"
   ]
  },
  {
   "cell_type": "code",
   "execution_count": 356,
   "metadata": {},
   "outputs": [],
   "source": [
    "# Musical Artists Dataset\n",
    "\n",
    "df = pd.read_csv(\"datasets/Musical artists/scrobbler-small-sample.csv\")\n",
    "df = df.pivot_table(values='playcount',index='artist_offset',columns='user_offset',aggfunc=sum,fill_value=0.)\n",
    "df = df.astype(float)\n",
    "artists = csr_matrix(df)\n",
    "artist_names = list(pd.read_csv(\"datasets/Musical artists/artists.csv\",header=None)[0])"
   ]
  },
  {
   "cell_type": "code",
   "execution_count": 357,
   "metadata": {},
   "outputs": [],
   "source": [
    "# Recommend musical artists part I\n",
    "\n",
    "# Perform the necessary imports\n",
    "from sklearn.decomposition import NMF\n",
    "from sklearn.preprocessing import Normalizer, MaxAbsScaler\n",
    "from sklearn.pipeline import make_pipeline\n",
    "\n",
    "# Create a MaxAbsScaler: scaler\n",
    "scaler = MaxAbsScaler()\n",
    "\n",
    "# Create an NMF model: nmf\n",
    "nmf = NMF(n_components=20)\n",
    "\n",
    "# Create a Normalizer: normalizer\n",
    "normalizer = Normalizer()\n",
    "\n",
    "# Create a pipeline: pipeline\n",
    "pipeline = make_pipeline(scaler,nmf,normalizer)\n",
    "\n",
    "# Apply fit_transform to artists: norm_features\n",
    "norm_features = pipeline.fit_transform(artists)"
   ]
  },
  {
   "cell_type": "code",
   "execution_count": 358,
   "metadata": {},
   "outputs": [
    {
     "name": "stdout",
     "output_type": "stream",
     "text": [
      "Bruce Springsteen    1.000000\n",
      "Neil Young           0.955683\n",
      "Van Morrison         0.870788\n",
      "Leonard Cohen        0.862304\n",
      "Bob Dylan            0.857732\n",
      "dtype: float64\n"
     ]
    }
   ],
   "source": [
    "# Recommend musical artists part II\n",
    "\n",
    "# Create a DataFrame: df\n",
    "df = pd.DataFrame(norm_features,index=artist_names)\n",
    "\n",
    "# Select row of 'Bruce Springsteen': artist\n",
    "artist = df.loc['Bruce Springsteen']\n",
    "\n",
    "# Compute cosine similarities: similarities\n",
    "similarities = df.dot(artist)\n",
    "\n",
    "# Display those with highest cosine similarity\n",
    "print(similarities.nlargest())"
   ]
  },
  {
   "cell_type": "markdown",
   "metadata": {},
   "source": [
    "----"
   ]
  }
 ],
 "metadata": {
  "kernelspec": {
   "display_name": "Python 3",
   "language": "python",
   "name": "python3"
  },
  "language_info": {
   "codemirror_mode": {
    "name": "ipython",
    "version": 3
   },
   "file_extension": ".py",
   "mimetype": "text/x-python",
   "name": "python",
   "nbconvert_exporter": "python",
   "pygments_lexer": "ipython3",
   "version": "3.9.1"
  }
 },
 "nbformat": 4,
 "nbformat_minor": 2
}
